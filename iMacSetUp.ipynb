{
 "cells": [
  {
   "cell_type": "markdown",
   "metadata": {},
   "source": [
    "<p style='text-align:center'>\n",
    "PSY 394U <b>Methods for fMRI</b>, Fall 2018\n",
    "\n",
    "\n",
    "<img style='width: 300px; padding: 0px;' src='https://github.com/sathayas/JupyterfMRIFall2018/blob/master/Images/Placebo_Left.png?raw=true' alt='brain blobs'/>\n",
    "\n",
    "</p>\n",
    "\n",
    "<p style='text-align:center; font-size:40px; margin-bottom: 30px;'><b> Configuring iMac in SEA 2.210 </b></p>\n",
    "\n",
    "<p style='text-align:center; font-size:18px; margin-bottom: 32px;'><b>October 1, 2018</b></p>\n",
    "\n",
    "<hr style='height:5px;border:none' />"
   ]
  },
  {
   "cell_type": "markdown",
   "metadata": {},
   "source": [
    "# Available computers\n",
    "<hr style=\"height:1px;border:none\" />\n",
    "\n",
    "These are the iMac's with necessary packages installed:\n",
    "  * SEA2210-828311M\n",
    "  * SEA2210-828312M\n",
    "  * SEA2210-828313M\n",
    "  * SEA2210-828315M\n",
    "  * SEA2210-890567M\n",
    "\n",
    "You have to be physically present in the classroom to log on to these computers. If you require key card access to SEA 2.210, please request through the Psychology department's [web form](https://utexas.qualtrics.com/SE/?SID=SV_07M902BEA0Ox34V). \n",
    "\n",
    "## Who can use these computers?\n",
    "\n",
    "The priority will be given to students who are registered for this course for credit. If a pre-configured iMac is unused by a registered student, an auditor may use it. It should be noted that, at any time during the semester, if a register student elects to use a pre-configured iMac, then an auditor using that computer may be asked to vacate that computer. "
   ]
  },
  {
   "cell_type": "markdown",
   "metadata": {},
   "source": [
    "# What are installed?"
   ]
  },
  {
   "cell_type": "markdown",
   "metadata": {},
   "source": [
    "  * Available computers\n",
    "  * What are installed\n",
    "  * Updating bash_profile\n",
    "  * Checking installation\n",
    "  * Remote access"
   ]
  }
 ],
 "metadata": {
  "kernelspec": {
   "display_name": "Python 3",
   "language": "python",
   "name": "python3"
  },
  "language_info": {
   "codemirror_mode": {
    "name": "ipython",
    "version": 3
   },
   "file_extension": ".py",
   "mimetype": "text/x-python",
   "name": "python",
   "nbconvert_exporter": "python",
   "pygments_lexer": "ipython3",
   "version": "3.5.5"
  }
 },
 "nbformat": 4,
 "nbformat_minor": 2
}

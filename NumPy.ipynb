{
 "cells": [
  {
   "cell_type": "markdown",
   "metadata": {},
   "source": [
    "<p style='text-align:center'>\n",
    "PSY 394U <b>Methods for fMRI</b>, Fall 2018\n",
    "\n",
    "\n",
    "<img style='width: 300px; padding: 0px;' src='https://github.com/sathayas/JupyterfMRIFall2018/blob/master/Images/Placebo_Left.png?raw=true' alt='brain blobs'/>\n",
    "\n",
    "</p>\n",
    "\n",
    "<p style='text-align:center; font-size:40px; margin-bottom: 30px;'><b>NumPy arrays, image data</b></p>\n",
    "\n",
    "<p style='text-align:center; font-size:18px; margin-bottom: 32px;'><b>September 17, 2018</b></p>\n",
    "\n",
    "<hr style='height:5px;border:none' />"
   ]
  },
  {
   "cell_type": "markdown",
   "metadata": {},
   "source": [
    "# NumPy arrays\n",
    "<hr style=\"height:1px;border:none\" />\n",
    "\n",
    "## Creating an array\n",
    "An array is a data type available in **`NumPy`**. It is similar to a list, but much more\n",
    "versatile than a list, and especially useful for scientific data."
   ]
  },
  {
   "cell_type": "code",
   "execution_count": null,
   "metadata": {},
   "outputs": [],
   "source": [
    "import numpy as np\n",
    "a = np.array([1, 2, 3, 4, 5])\n",
    "a"
   ]
  },
  {
   "cell_type": "markdown",
   "metadata": {},
   "source": [
    "Note that when we import **`numpy`**, we assign a name **`np`**, so that we don't have to\n",
    "type `numpy` every time we call a function in the `numpy` module. An array can be\n",
    "converted to a list, or vice versa."
   ]
  },
  {
   "cell_type": "code",
   "execution_count": null,
   "metadata": {},
   "outputs": [],
   "source": [
    "list(a)"
   ]
  },
  {
   "cell_type": "code",
   "execution_count": null,
   "metadata": {},
   "outputs": [],
   "source": [
    "b = [10, 9, 8, 7, 6]\n",
    "np.array(b)"
   ]
  },
  {
   "cell_type": "markdown",
   "metadata": {},
   "source": [
    "An array can be two dimensional. For example,"
   ]
  },
  {
   "cell_type": "code",
   "execution_count": null,
   "metadata": {},
   "outputs": [],
   "source": [
    "c = np.array([[1,2,3],[4,5,6],[7,8,9],[10,11,12]])\n",
    "c"
   ]
  },
  {
   "cell_type": "markdown",
   "metadata": {},
   "source": [
    "You can examine the shape of an array using the **`ndim`** method (to examine\n",
    "dimension), the **`shape`** method (to examine the size in each dimension), and the\n",
    "**`size`** method (to examine the total number of elements)."
   ]
  },
  {
   "cell_type": "code",
   "execution_count": null,
   "metadata": {},
   "outputs": [],
   "source": [
    "c.ndim"
   ]
  },
  {
   "cell_type": "code",
   "execution_count": null,
   "metadata": {},
   "outputs": [],
   "source": [
    "c.shape"
   ]
  },
  {
   "cell_type": "code",
   "execution_count": null,
   "metadata": {},
   "outputs": [],
   "source": [
    "c.size"
   ]
  },
  {
   "cell_type": "markdown",
   "metadata": {},
   "source": [
    "This tells us that the array `c` is two-dimensional, with 4 rows and 3 columns, and\n",
    "has 12 elements.\n",
    "\n",
    "In practice, you usually do not enter elements one by one. Here are some useful\n",
    "functions. First an array of ones with **`np.ones()`** function."
   ]
  },
  {
   "cell_type": "code",
   "execution_count": null,
   "metadata": {},
   "outputs": [],
   "source": [
    "np.ones((3,3))"
   ]
  },
  {
   "cell_type": "markdown",
   "metadata": {},
   "source": [
    "And an array of zeros with **`np.zeros()`** function."
   ]
  },
  {
   "cell_type": "code",
   "execution_count": null,
   "metadata": {},
   "outputs": [],
   "source": [
    "np.zeros((4,5))"
   ]
  },
  {
   "cell_type": "markdown",
   "metadata": {},
   "source": [
    "You can change the shape of an array with the **`reshape()`** method. An array of 15 numbers are reshaped into different 2D arrays."
   ]
  },
  {
   "cell_type": "code",
   "execution_count": null,
   "metadata": {},
   "outputs": [],
   "source": [
    "a = np.arange(15)\n",
    "a"
   ]
  },
  {
   "cell_type": "code",
   "execution_count": null,
   "metadata": {},
   "outputs": [],
   "source": [
    "b = a.reshape(3,5)\n",
    "b"
   ]
  },
  {
   "cell_type": "markdown",
   "metadata": {},
   "source": [
    "## Working with an array\n",
    "\n",
    "Unlike lists, arrays can be used in mathematical operations. For example,"
   ]
  },
  {
   "cell_type": "code",
   "execution_count": null,
   "metadata": {},
   "outputs": [],
   "source": [
    "a = np.ones((3,3))\n",
    "a"
   ]
  },
  {
   "cell_type": "code",
   "execution_count": null,
   "metadata": {},
   "outputs": [],
   "source": [
    "b = np.ones((3,3))\n",
    "b = np.arange(9).reshape(3,3)\n",
    "b"
   ]
  },
  {
   "cell_type": "code",
   "execution_count": null,
   "metadata": {},
   "outputs": [],
   "source": [
    "a + b"
   ]
  },
  {
   "cell_type": "code",
   "execution_count": null,
   "metadata": {},
   "outputs": [],
   "source": [
    "a * b"
   ]
  },
  {
   "cell_type": "markdown",
   "metadata": {},
   "source": [
    "An operation involving arrays is performed on element-by-element basis. You can also perform an operation between an array and a scalar (i.e., a single number). In such a case, each element in the array is used in an operation with a scalar."
   ]
  },
  {
   "cell_type": "code",
   "execution_count": null,
   "metadata": {},
   "outputs": [],
   "source": [
    "a + 10"
   ]
  },
  {
   "cell_type": "code",
   "execution_count": null,
   "metadata": {},
   "outputs": [],
   "source": [
    "5 * a"
   ]
  },
  {
   "cell_type": "markdown",
   "metadata": {},
   "source": [
    "Of course, you can perform a matrix-like operations as well. First, you can transpose a matrix with **`T`**. "
   ]
  },
  {
   "cell_type": "code",
   "execution_count": null,
   "metadata": {},
   "outputs": [],
   "source": [
    "B = np.array([[1,2,3],[3,2,2],[0,1,1]])\n",
    "B"
   ]
  },
  {
   "cell_type": "code",
   "execution_count": null,
   "metadata": {},
   "outputs": [],
   "source": [
    "B.T"
   ]
  },
  {
   "cell_type": "markdown",
   "metadata": {},
   "source": [
    "Here is a matrix multiplication by the **`np.dot()`**."
   ]
  },
  {
   "cell_type": "code",
   "execution_count": null,
   "metadata": {},
   "outputs": [],
   "source": [
    "V = np.arange(1,4).reshape(3,1)\n",
    "V"
   ]
  },
  {
   "cell_type": "code",
   "execution_count": null,
   "metadata": {},
   "outputs": [],
   "source": [
    "np.dot(B,V)"
   ]
  },
  {
   "cell_type": "markdown",
   "metadata": {},
   "source": [
    "And finally the inverse matrix by the **`np.linalg.inv()`** function. "
   ]
  },
  {
   "cell_type": "code",
   "execution_count": null,
   "metadata": {},
   "outputs": [],
   "source": [
    "invB = np.linalg.inv(B)\n",
    "invB"
   ]
  },
  {
   "cell_type": "code",
   "execution_count": null,
   "metadata": {},
   "outputs": [],
   "source": [
    "np.dot(invB,B)"
   ]
  },
  {
   "cell_type": "markdown",
   "metadata": {},
   "source": [
    "## Useful methods\n",
    "\n",
    "Here are some useful methods for arrays. First, finding the maximum with the **`max`** method. You can find the maximum for the entire array."
   ]
  },
  {
   "cell_type": "code",
   "execution_count": null,
   "metadata": {},
   "outputs": [],
   "source": [
    "a = np.random.rand(4,3)\n",
    "a"
   ]
  },
  {
   "cell_type": "code",
   "execution_count": null,
   "metadata": {},
   "outputs": [],
   "source": [
    "a.max()"
   ]
  },
  {
   "cell_type": "markdown",
   "metadata": {},
   "source": [
    "Or for each row"
   ]
  },
  {
   "cell_type": "code",
   "execution_count": null,
   "metadata": {},
   "outputs": [],
   "source": [
    "a.max(axis=1)"
   ]
  },
  {
   "cell_type": "markdown",
   "metadata": {},
   "source": [
    "Or for each column"
   ]
  },
  {
   "cell_type": "code",
   "execution_count": null,
   "metadata": {},
   "outputs": [],
   "source": [
    "a.max(axis=0)"
   ]
  },
  {
   "cell_type": "markdown",
   "metadata": {},
   "source": [
    "Similarly, you can use the **`min`** method to find the minimums."
   ]
  },
  {
   "cell_type": "code",
   "execution_count": null,
   "metadata": {},
   "outputs": [],
   "source": [
    "a.min()"
   ]
  },
  {
   "cell_type": "code",
   "execution_count": null,
   "metadata": {},
   "outputs": [],
   "source": [
    "a.min(axis=1)"
   ]
  },
  {
   "cell_type": "code",
   "execution_count": null,
   "metadata": {},
   "outputs": [],
   "source": [
    "a.min(axis=0)"
   ]
  },
  {
   "cell_type": "markdown",
   "metadata": {},
   "source": [
    "And you can calculate the sum of an array with the **`sum`** method."
   ]
  },
  {
   "cell_type": "code",
   "execution_count": null,
   "metadata": {},
   "outputs": [],
   "source": [
    "a.sum()"
   ]
  },
  {
   "cell_type": "code",
   "execution_count": null,
   "metadata": {},
   "outputs": [],
   "source": [
    "a.sum(axis=1)"
   ]
  },
  {
   "cell_type": "code",
   "execution_count": null,
   "metadata": {},
   "outputs": [],
   "source": [
    "a.sum(axis=0)"
   ]
  },
  {
   "cell_type": "markdown",
   "metadata": {},
   "source": [
    "## Indexing and slicing\n",
    "\n",
    "You can index and slice an array just the same way as a list."
   ]
  },
  {
   "cell_type": "code",
   "execution_count": null,
   "metadata": {},
   "outputs": [],
   "source": [
    "x = np.arange(10)**2\n",
    "x"
   ]
  },
  {
   "cell_type": "code",
   "execution_count": null,
   "metadata": {},
   "outputs": [],
   "source": [
    "x[4]"
   ]
  },
  {
   "cell_type": "code",
   "execution_count": null,
   "metadata": {},
   "outputs": [],
   "source": [
    "x[4:]"
   ]
  },
  {
   "cell_type": "code",
   "execution_count": null,
   "metadata": {},
   "outputs": [],
   "source": [
    "x[-3:]"
   ]
  },
  {
   "cell_type": "markdown",
   "metadata": {},
   "source": [
    "Unlike a list, you can also have a list of indices to access elements as well."
   ]
  },
  {
   "cell_type": "code",
   "execution_count": null,
   "metadata": {},
   "outputs": [],
   "source": [
    "x[[1,3,7,8]]"
   ]
  },
  {
   "cell_type": "code",
   "execution_count": null,
   "metadata": {},
   "outputs": [],
   "source": [
    "x[[1,1,1,9]]"
   ]
  },
  {
   "cell_type": "markdown",
   "metadata": {},
   "source": [
    "For a 2D array, the first index corresponds to the row, and the second index\n",
    "corresponds to the column. If you ignore the second index, then the entire row is\n",
    "returned. Both row and column indices can be a number (i.e., index) or a slice."
   ]
  },
  {
   "cell_type": "code",
   "execution_count": null,
   "metadata": {},
   "outputs": [],
   "source": [
    "b = np.arange(15).reshape(3,5)\n",
    "b"
   ]
  },
  {
   "cell_type": "code",
   "execution_count": null,
   "metadata": {},
   "outputs": [],
   "source": [
    "b[1]"
   ]
  },
  {
   "cell_type": "code",
   "execution_count": null,
   "metadata": {},
   "outputs": [],
   "source": [
    "b[2,3]"
   ]
  },
  {
   "cell_type": "code",
   "execution_count": null,
   "metadata": {},
   "outputs": [],
   "source": [
    "b[1:,3:]"
   ]
  },
  {
   "cell_type": "markdown",
   "metadata": {},
   "source": [
    "And, you can use a list for row indices or column indices as well."
   ]
  },
  {
   "cell_type": "code",
   "execution_count": null,
   "metadata": {},
   "outputs": [],
   "source": [
    "b[1:,[1,1,3,3,2]]"
   ]
  },
  {
   "cell_type": "code",
   "execution_count": null,
   "metadata": {},
   "outputs": [],
   "source": [
    "b[[1,1,0],2:]"
   ]
  },
  {
   "cell_type": "code",
   "execution_count": null,
   "metadata": {},
   "outputs": [],
   "source": [
    "b[[0,1,0,2,1],[1,1,3,3,2]]"
   ]
  },
  {
   "cell_type": "markdown",
   "metadata": {},
   "source": [
    "## Conditional indexing"
   ]
  },
  {
   "cell_type": "markdown",
   "metadata": {},
   "source": [
    "With an array, it is easy to generate a sub-array satisfying certain conditions. For\n",
    "example, lets say you have the following data."
   ]
  },
  {
   "cell_type": "markdown",
   "metadata": {},
   "source": [
    "`<ExampleData.py>`"
   ]
  },
  {
   "cell_type": "code",
   "execution_count": null,
   "metadata": {},
   "outputs": [],
   "source": [
    "import numpy as np\n",
    "\n",
    "subjID = np.array(['sub001']*3 + ['sub005']*4 + ['sub010']*3)\n",
    "RT = np.array([ 98,  96,  86,  90,  95,  80, 117,  90, 114, 113])\n",
    "score = np.array([0, 0, 1, 0, 1, 0, 0, 0, 1, 0])\n",
    "\n",
    "print('ID\\tRT\\tScore')\n",
    "for i,iID in enumerate(subjID):\n",
    "    print(iID, RT[i], score[i], sep='\\t')"
   ]
  },
  {
   "cell_type": "markdown",
   "metadata": {},
   "source": [
    "Then you can create sub-arrays based on a particular subject ID."
   ]
  },
  {
   "cell_type": "code",
   "execution_count": null,
   "metadata": {},
   "outputs": [],
   "source": [
    "subjID[subjID=='sub005']"
   ]
  },
  {
   "cell_type": "code",
   "execution_count": null,
   "metadata": {},
   "outputs": [],
   "source": [
    "RT[subjID=='sub005']"
   ]
  },
  {
   "cell_type": "code",
   "execution_count": null,
   "metadata": {},
   "outputs": [],
   "source": [
    "score[subjID=='sub005']"
   ]
  },
  {
   "cell_type": "markdown",
   "metadata": {},
   "source": [
    "You can use technique on 2D arrays as well."
   ]
  },
  {
   "cell_type": "code",
   "execution_count": null,
   "metadata": {},
   "outputs": [],
   "source": [
    "dMat = np.array([[ 94, 116, 104, 97, 99],\n",
    "[ 92, 107, 92, 103, 104],\n",
    "[115, 112, 81, 90, 90],\n",
    "[ 94, 100, 90, 92, 114]])\n",
    "\n",
    "dMat[dMat>95]"
   ]
  },
  {
   "cell_type": "markdown",
   "metadata": {},
   "source": [
    "Notice that it returns a 1D array.\n",
    "\n",
    "If you just write a condition, then it will return an array of True and False."
   ]
  },
  {
   "cell_type": "code",
   "execution_count": null,
   "metadata": {},
   "outputs": [],
   "source": [
    "dMat>95"
   ]
  },
  {
   "cell_type": "markdown",
   "metadata": {},
   "source": [
    "### Exercise\n",
    "**Mean RTs and scores**. You have two arrays of the same size."
   ]
  },
  {
   "cell_type": "markdown",
   "metadata": {},
   "source": [
    "`<RTData.py>`"
   ]
  },
  {
   "cell_type": "code",
   "execution_count": null,
   "metadata": {},
   "outputs": [],
   "source": [
    "import numpy as np\n",
    "\n",
    "RTMat = np.array([[111, 100,  86, 120,  91],\n",
    "                  [ 92,  83, 105, 103, 112],\n",
    "                  [117, 121, 124, 111, 110],\n",
    "                  [111,  86, 113,  88, 105]])\n",
    "scoreMat = np.array([[1, 0, 0, 0, 0],\n",
    "                     [0, 1, 1, 0, 1],\n",
    "                     [0, 1, 1, 0, 0],\n",
    "                     [0, 0, 1, 1, 0]])"
   ]
  },
  {
   "cell_type": "markdown",
   "metadata": {},
   "source": [
    "where **`RTMat`** corresponds to the response times (RT) in ms and **`scoreMat`**\n",
    "corresponds to the scores from the same experiment.\n",
    "\n",
    "1. **Mean RT**. Calculate the mean RT for observations with score =0. Do the same for observations with score = 1.<br>\n",
    "      ***Hint:*** *You can use the **`mean()`** method for an array*. \n",
    "    \n",
    "2. **Mean score**. Calculate the mean score for observations with `RT`>100ms."
   ]
  },
  {
   "cell_type": "markdown",
   "metadata": {},
   "source": [
    "# Image data\n",
    "<hr style=\"height:1px;border:none\" />\n",
    "## Data sets\n",
    "\n",
    "Now that we know how to handle array data in Python, we can take a look at some image data. Brain image data are often saved as 3D arrays (e.g., T1-weighted structural MRI) or 4D arrays (e.g., fMRI time series). For this exercise (and for some future exercises), I would like you to download two publicly available fMRI data sets, available on OpenNeuro.org. *It seems like **Google Chrome** is the only web browser that lets me download these data sets.*\n",
    "\n",
    "* Flanker task, event related [ds102](https://openneuro.org/datasets/ds000102) (~3.7GB)\n",
    "* Test-retest data of motor, language, and spatial attention [ds114](https://openneuro.org/datasets/ds000114) (~4.7GB)\n",
    "\n",
    "Both data sets should be available as zip archives (with **`.zip`** extension). First thing you want to do is to *move the files* to a desired location. For example, I have a directory called **`Data`** under my fMRI course directory, and under there. Once the zip files are at the desired location, you can extract the data sets by  unzipping the file.\n",
    "```\n",
    "unzip [downloaded file name.zip]\n",
    "```\n",
    "***Note***: This command needs to be executed on the terminal window; it is a shell command, not a Python command.\n",
    "\n",
    "This may automatically create a new directory called **`ds000102`** or **`ds000114`** and place the contents in that directory (for Mac). Or you may need to create a separate directory for each zip file before unzipping (for Linux). In my case, I created directories called **`ds102`** and **`ds114`** for these data sets."
   ]
  },
  {
   "cell_type": "markdown",
   "metadata": {},
   "source": [
    "## Reading image data\n",
    "\n",
    "Now let's take a look at some image data. For this exercise, we examine a subject from the `ds102` data set. I want you to select a random subject from the data set. To get a list of subjects, you can run this program. "
   ]
  },
  {
   "cell_type": "markdown",
   "metadata": {},
   "source": [
    "`<ListSubjects.py>`"
   ]
  },
  {
   "cell_type": "code",
   "execution_count": 1,
   "metadata": {},
   "outputs": [],
   "source": [
    "import os\n",
    "\n",
    "# Directory where your data set resides. This needs to be customized\n",
    "#dataDir = '/home/satoru/Teaching/fMRI_Fall_2018/Data/ds102'\n",
    "dataDir = '/Users/sh45474/Documents/Teaching/fMRI_Fall_2018/Data/ds102'"
   ]
  },
  {
   "cell_type": "code",
   "execution_count": 2,
   "metadata": {},
   "outputs": [],
   "source": [
    "# getting a list of directory contents\n",
    "dirContents = os.listdir(dataDir)\n",
    "dirContents.sort()"
   ]
  },
  {
   "cell_type": "code",
   "execution_count": 3,
   "metadata": {},
   "outputs": [
    {
     "name": "stdout",
     "output_type": "stream",
     "text": [
      "sub-01\n",
      "sub-02\n",
      "sub-03\n",
      "sub-04\n",
      "sub-05\n",
      "sub-06\n",
      "sub-07\n",
      "sub-08\n",
      "sub-09\n",
      "sub-10\n",
      "sub-11\n",
      "sub-12\n",
      "sub-13\n",
      "sub-14\n",
      "sub-15\n",
      "sub-16\n",
      "sub-17\n",
      "sub-18\n",
      "sub-19\n",
      "sub-20\n",
      "sub-21\n",
      "sub-22\n",
      "sub-23\n",
      "sub-24\n",
      "sub-25\n",
      "sub-26\n"
     ]
    }
   ],
   "source": [
    "# printing out a list of subjects (i.e., directories starting with sub-)\n",
    "for iFile in dirContents:\n",
    "    if 'sub-' in iFile:\n",
    "        print(iFile)"
   ]
  },
  {
   "cell_type": "markdown",
   "metadata": {},
   "source": [
    "*Note that you have to specify the path to the data directory, which is different likely different from mine.* \n",
    "\n",
    "From these subjects, I randomly pick a subject **`sub-26`**. Under that directory, there are two directories called **`anat`** (where high-resolution structural MRI data resides) and **`func`** (where 4D fMRI data file(s) resides). For the following exercises, we will read the structural MRI data and one of fMRI time series data. For the structural MRI data, it is likely that there is only one image data (with **`.nii`** extension, or a NIfTI file) in the **`anat`** directory. For the fMRI data, you can choose one of the `.nii` files randomly. In my case, under the `anat` directory:\n",
    "```\n",
    "sub-26_T1w.nii.gz\n",
    "```\n",
    "And under the `func` directory:\n",
    "```\n",
    "sub-26_task-flanker_run-1_bold.nii.gz\n",
    "sub-26_task-flanker_run-2_bold.nii.gz\n",
    "```\n",
    "I will pick **`sub-26_task-flanker_run-2_bold.nii.gz`** for the exercise.\n",
    "\n",
    "Here is an example code to read structural and functional MRI data."
   ]
  },
  {
   "cell_type": "markdown",
   "metadata": {},
   "source": [
    "`<ReadImageData.py>`"
   ]
  },
  {
   "cell_type": "code",
   "execution_count": 4,
   "metadata": {},
   "outputs": [],
   "source": [
    "import os\n",
    "import numpy as np\n",
    "import nibabel as nib\n",
    "\n",
    "# Directory where your data set resides. This needs to be customized\n",
    "#dataDir = '/home/satoru/Teaching/fMRI_Fall_2018/Data/ds102'\n",
    "dataDir = '/Users/sh45474/Documents/Teaching/fMRI_Fall_2018/Data/ds102'"
   ]
  },
  {
   "cell_type": "code",
   "execution_count": 5,
   "metadata": {},
   "outputs": [],
   "source": [
    "# paths for the structural and functional MRI data. \n",
    "# NOTE that the paths are different for each user. You need to customize\n",
    "f_sMRI = os.path.join(dataDir,'sub-26/anat/sub-26_T1w.nii.gz')\n",
    "f_fMRI = os.path.join(dataDir,'sub-26/func/sub-26_task-flanker_run-2_bold.nii.gz')"
   ]
  },
  {
   "cell_type": "code",
   "execution_count": null,
   "metadata": {},
   "outputs": [],
   "source": [
    "f_sMRI"
   ]
  },
  {
   "cell_type": "code",
   "execution_count": 7,
   "metadata": {},
   "outputs": [
    {
     "data": {
      "text/plain": [
       "'/Users/sh45474/Documents/Teaching/fMRI_Fall_2018/Data/ds102/sub-26/func/sub-26_task-flanker_run-2_bold.nii.gz'"
      ]
     },
     "execution_count": 7,
     "metadata": {},
     "output_type": "execute_result"
    }
   ],
   "source": [
    "f_fMRI"
   ]
  },
  {
   "cell_type": "code",
   "execution_count": 8,
   "metadata": {},
   "outputs": [],
   "source": [
    "# reading in the image data arrays\n",
    "# structural MRI\n",
    "sMRI = nib.load(f_sMRI)\n",
    "X_sMRI = sMRI.get_data()\n",
    "\n",
    "# fMRI\n",
    "fMRI = nib.load(f_fMRI)\n",
    "X_fMRI = fMRI.get_data()"
   ]
  },
  {
   "cell_type": "markdown",
   "metadata": {},
   "source": [
    "Here, the function **`os.path.join`** is used to combine a path to the data directory and the path to a particular image data file. \n",
    "\n",
    "The function **`nib.load`** is used to create an object for the image data. To actually read the image data array, you need to use the **`get_data`** method associated with an image object. \n",
    "\n",
    "So, were image data loaded correctly? Let's check."
   ]
  },
  {
   "cell_type": "code",
   "execution_count": 9,
   "metadata": {},
   "outputs": [
    {
     "data": {
      "text/plain": [
       "(176, 256, 256)"
      ]
     },
     "execution_count": 9,
     "metadata": {},
     "output_type": "execute_result"
    }
   ],
   "source": [
    "X_sMRI.shape"
   ]
  },
  {
   "cell_type": "code",
   "execution_count": 10,
   "metadata": {},
   "outputs": [
    {
     "data": {
      "text/plain": [
       "(64, 64, 40, 146)"
      ]
     },
     "execution_count": 10,
     "metadata": {},
     "output_type": "execute_result"
    }
   ],
   "source": [
    "X_fMRI.shape"
   ]
  },
  {
   "cell_type": "markdown",
   "metadata": {},
   "source": [
    "Here, the structural MRI is a 3D array of size 176 x 256 x 256, whereas the fMRI is a 4D array of size 64 x 64 x 40 x 164. "
   ]
  },
  {
   "cell_type": "markdown",
   "metadata": {},
   "source": [
    "### T1 image\n",
    "\n",
    "Now, let's take a look at the T1-weighted image (or structural MRI). But before doing that, if you want to see images on Jupyter notebook, you have to run this line."
   ]
  },
  {
   "cell_type": "code",
   "execution_count": 11,
   "metadata": {},
   "outputs": [],
   "source": [
    "%matplotlib inline"
   ]
  },
  {
   "cell_type": "markdown",
   "metadata": {},
   "source": [
    "`<ShowT1Image.py>`"
   ]
  },
  {
   "cell_type": "code",
   "execution_count": 34,
   "metadata": {},
   "outputs": [],
   "source": [
    "import os\n",
    "import numpy as np\n",
    "import nibabel as nib\n",
    "import matplotlib.pyplot as plt\n",
    "\n",
    "\n",
    "def show_plane(x):\n",
    "    plt.imshow(np.rot90(x), cmap=\"gray\")\n",
    "    plt.gca().set_axis_off()\n",
    "\n",
    "def show_section(xImg, section, xSlice):\n",
    "    if section=='xy':\n",
    "        tmpImg = xImg[:,:,xSlice]\n",
    "    elif section=='xz':\n",
    "        tmpImg = xImg[:,xSlice,:]\n",
    "    else:\n",
    "        tmpImg = xImg[xSlice,:,:]\n",
    "    show_plane(tmpImg)"
   ]
  },
  {
   "cell_type": "markdown",
   "metadata": {},
   "source": [
    "Here, I defined two functions. First, **`show_plane`** function displays a 2D array as a gray-scale image. This function is called by **`show_section`** function. Depending on the parameters provided, `show_section` can produce a section from the 3D T1 image sliced at a particular plane. There are 3 different ways to slice the brain:\n",
    "  * **Axial** section - (xy-plane)\n",
    "  * **Coronal** section - (xz-plane)\n",
    "  * **Sagittal** section - (yz-plane)\n",
    "By specifying the parameter **`section`**, you can switch between different sections in this function.\n",
    "\n",
    "Now, let's load the image data."
   ]
  },
  {
   "cell_type": "code",
   "execution_count": 31,
   "metadata": {},
   "outputs": [],
   "source": [
    "# Directory where your data set resides. This needs to be customized\n",
    "#dataDir = '/home/satoru/Teaching/fMRI_Fall_2018/Data/ds102'\n",
    "dataDir = '/Users/sh45474/Documents/Teaching/fMRI_Fall_2018/Data/ds102'\n",
    "\n",
    "# reading in the T1 image data array\n",
    "f_sMRI = os.path.join(dataDir,'sub-26/anat/sub-26_T1w.nii.gz')\n",
    "sMRI = nib.load(f_sMRI)\n",
    "X_sMRI = sMRI.get_data()"
   ]
  },
  {
   "cell_type": "markdown",
   "metadata": {},
   "source": [
    "And let's specify the section plane coordinates."
   ]
  },
  {
   "cell_type": "code",
   "execution_count": 32,
   "metadata": {},
   "outputs": [],
   "source": [
    "# locations (in voxels) where slicing occurs\n",
    "xSlice = 85\n",
    "ySlice = 110\n",
    "zSlice = 140"
   ]
  },
  {
   "cell_type": "markdown",
   "metadata": {},
   "source": [
    "Now different sections."
   ]
  },
  {
   "cell_type": "code",
   "execution_count": 35,
   "metadata": {},
   "outputs": [
    {
     "data": {
      "image/png": "[encoded data removed]",
      "text/plain": [
       "<Figure size 432x288 with 1 Axes>"
      ]
     },
     "metadata": {},
     "output_type": "display_data"
    }
   ],
   "source": [
    "show_section(X_sMRI,'xy',zSlice)\n",
    "plt.title('Axial section (xy-plane)')\n",
    "plt.show()"
   ]
  },
  {
   "cell_type": "code",
   "execution_count": 25,
   "metadata": {},
   "outputs": [
    {
     "data": {
      "text/plain": [
       "<Figure size 432x288 with 0 Axes>"
      ]
     },
     "metadata": {},
     "output_type": "display_data"
    }
   ],
   "source": [
    "plt.clf()"
   ]
  },
  {
   "cell_type": "code",
   "execution_count": null,
   "metadata": {},
   "outputs": [],
   "source": [
    "show_section(X_sMRI,'xz',ySlice)\n",
    "plt.title('Coronal section (yz-plane)')\n",
    "plt.show()"
   ]
  },
  {
   "cell_type": "code",
   "execution_count": null,
   "metadata": {},
   "outputs": [],
   "source": [
    "show_section(X_sMRI,'yz',xSlice)\n",
    "plt.title('Sagittal section (yz-plane)')\n",
    "plt.show()"
   ]
  },
  {
   "cell_type": "markdown",
   "metadata": {},
   "source": [
    "You can take a look at the intensity of a certain voxel. For example,"
   ]
  },
  {
   "cell_type": "code",
   "execution_count": null,
   "metadata": {},
   "outputs": [],
   "source": [
    "X_sMRI[85,110,140]"
   ]
  },
  {
   "cell_type": "markdown",
   "metadata": {},
   "source": [
    "You can calculate some basic statistics (e.g., max, min, mean, sd) of voxel intensities easily too, by using functions in `NumPy`.\n",
    "* **`np.max`**: maximum\n",
    "* **`np.min`**: minimum\n",
    "* **`np.average`**: mean\n",
    "* **`np.std`**: standard deviation"
   ]
  },
  {
   "cell_type": "markdown",
   "metadata": {},
   "source": [
    "You can calculate these basic stats on the entire 3D image."
   ]
  },
  {
   "cell_type": "code",
   "execution_count": null,
   "metadata": {},
   "outputs": [],
   "source": [
    "np.max(X_sMRI)"
   ]
  },
  {
   "cell_type": "code",
   "execution_count": null,
   "metadata": {},
   "outputs": [],
   "source": [
    "np.std(X_sMRI)"
   ]
  },
  {
   "cell_type": "markdown",
   "metadata": {},
   "source": [
    "Note that image intensities on MRI images are on an arbitrary scale.  \n",
    "\n",
    "You can calculate statistics on a particular section, say the sagittal section above (at `x=85`)."
   ]
  },
  {
   "cell_type": "code",
   "execution_count": null,
   "metadata": {},
   "outputs": [],
   "source": [
    "np.average(X_sMRI[85,:,:])"
   ]
  },
  {
   "cell_type": "markdown",
   "metadata": {},
   "source": [
    "Or, the average intensity across x-axis."
   ]
  },
  {
   "cell_type": "code",
   "execution_count": null,
   "metadata": {},
   "outputs": [],
   "source": [
    "X_maxX = np.average(X_sMRI, axis=0)\n",
    "show_plane(X_maxX)"
   ]
  },
  {
   "cell_type": "markdown",
   "metadata": {},
   "source": [
    "Here, the parameter **`axis=0`** indicates that the average should be calculated along the 0-th index (i.e., along the x-axis in this case). You can set **`axis=1`** or **`axis=2`** for the average across the y-axis or the z-axis, respectively."
   ]
  },
  {
   "cell_type": "markdown",
   "metadata": {},
   "source": [
    "### Exercise\n",
    "1. **Maximum intensity projection**. In the 3D T1 image from above, calculate the maximum intensity along one of the axes and display the resulting image. (You may post your code, *not the resulting figure*, on Canvas discussion.)"
   ]
  },
  {
   "cell_type": "markdown",
   "metadata": {},
   "source": [
    "### fMRI data\n",
    "\n",
    "Now, let's take a look at the fMRI data. "
   ]
  },
  {
   "cell_type": "markdown",
   "metadata": {},
   "source": [
    "`<ShowfMRI.py>`"
   ]
  },
  {
   "cell_type": "code",
   "execution_count": null,
   "metadata": {},
   "outputs": [],
   "source": [
    "import os\n",
    "import numpy as np\n",
    "import nibabel as nib\n",
    "import matplotlib.pyplot as plt\n",
    "\n",
    "\n",
    "def show_plane(x):\n",
    "    plt.imshow(x, cmap=\"gray\")\n",
    "    plt.gca().set_axis_off()\n",
    "\n",
    "def show_section(xImg, section, xSlice, t):\n",
    "    if section=='xy':\n",
    "        tmpImg = xImg[:,:,xSlice, t]\n",
    "    elif section=='xz':\n",
    "        tmpImg = xImg[:,xSlice,:, t]\n",
    "    else:\n",
    "        tmpImg = xImg[xSlice,:,:, t]\n",
    "    show_plane(np.rot90(tmpImg))\n",
    "\n",
    "\n",
    "\n",
    "# Directory where your data set resides. This needs to be customized\n",
    "dataDir = '/home/satoru/Teaching/fMRI_Fall_2018/Data/ds102'\n",
    "\n",
    "# reading in the fMRI data array\n",
    "f_fMRI = os.path.join(dataDir,'sub-26/func/sub-26_task-flanker_run-2_bold.nii.gz')\n",
    "fMRI = nib.load(f_fMRI)\n",
    "X_fMRI = fMRI.get_data()\n",
    "\n",
    "# locations (in voxels) where slicing occurs\n",
    "xSlice = 32\n",
    "ySlice = 28\n",
    "zSlice = 22\n",
    "tSlice = 0"
   ]
  },
  {
   "cell_type": "markdown",
   "metadata": {},
   "source": [
    "As you recall, the data array is 4D in the fMRI data. "
   ]
  },
  {
   "cell_type": "code",
   "execution_count": null,
   "metadata": {},
   "outputs": [],
   "source": [
    "X_fMRI.shape"
   ]
  },
  {
   "cell_type": "markdown",
   "metadata": {},
   "source": [
    "The first 3 dimensions correspond to the 3D space defined by xyz-coordinates, and the last dimension corresponds to time points. In this case, there are 146 time points. You can take a look at the time course at the particular voxel."
   ]
  },
  {
   "cell_type": "code",
   "execution_count": null,
   "metadata": {},
   "outputs": [],
   "source": [
    "plt.plot(np.arange(X_fMRI.shape[-1]), X_fMRI[xSlice,ySlice,zSlice,:])\n",
    "plt.xlabel('Time point')\n",
    "plt.ylabel('Intensity')\n",
    "plt.show()"
   ]
  },
  {
   "cell_type": "markdown",
   "metadata": {},
   "source": [
    "Here, the **`np.arange()`** function is the NumPy version of the **`range()`** function. Unlike the `range()` function, it can produce a series of floats as opposed to integers. The **`plt.plot`** function, as you can image from the name, plots data points on the x- and y-coordinates. This plot shows a low frequency drift, typical for fMRI. "
   ]
  },
  {
   "cell_type": "markdown",
   "metadata": {},
   "source": [
    "### Exercise\n",
    "1. **Mean time course**. On your fMRI data, calculate the mean intensity at each time point. Then plot the mean intensity time series. (Post your code, not the resulting figure, on Canvas)."
   ]
  },
  {
   "cell_type": "markdown",
   "metadata": {},
   "source": [
    "At each time point, the fMRI data is a 3D volume. Let's take a look at the first volume."
   ]
  },
  {
   "cell_type": "code",
   "execution_count": null,
   "metadata": {},
   "outputs": [],
   "source": [
    "# displaying sections\n",
    "show_section(X_fMRI,'xy',zSlice, tSlice)\n",
    "plt.title('Axial section (xy-plane)')\n",
    "plt.show()"
   ]
  },
  {
   "cell_type": "code",
   "execution_count": null,
   "metadata": {},
   "outputs": [],
   "source": [
    "show_section(X_fMRI,'xz',ySlice, tSlice)\n",
    "plt.title('Coronal section (yz-plane)')\n",
    "plt.show()"
   ]
  },
  {
   "cell_type": "code",
   "execution_count": null,
   "metadata": {},
   "outputs": [],
   "source": [
    "show_section(X_fMRI,'yz',xSlice, tSlice)\n",
    "plt.title('Sagittal section (yz-plane)')\n",
    "plt.show()"
   ]
  },
  {
   "cell_type": "markdown",
   "metadata": {},
   "source": [
    "### Exercise\n",
    "1. **Mean and sd images**. Calculate the mean and standard deviation (sd) across time points. This should result in 3D mean and sd images. Display a section of the resulting images. (Post your code, not the resulting images, on Canvas).\n",
    "2. **De-mean fMRI data**. At each time point in the fMRI data, calculate the mean intensity of all voxels at that time point. Then subtract that mean intensity from each time point. The plot the time series at a particular voxel over time. (Post your code, not the resulting images, on Canvas)."
   ]
  },
  {
   "cell_type": "markdown",
   "metadata": {},
   "source": [
    "# Image viewer\n",
    "<hr style=\"height:1px;border:none\" />\n",
    "\n",
    "To view neuroimaging data, it is easier to use an image viewer software tool, as opposed to writing a program to display. I will demonstrate 3 image viewers, FSL, SPM, and MRIcron. Pay particular attention to the following details.\n",
    "* Voxel location in the voxel space or in the brain space\n",
    "* Left or right\n",
    "* Other details embedded in the **`.nii`** image data"
   ]
  }
 ],
 "metadata": {
  "kernelspec": {
   "display_name": "Python 3",
   "language": "python",
   "name": "python3"
  },
  "language_info": {
   "codemirror_mode": {
    "name": "ipython",
    "version": 3
   },
   "file_extension": ".py",
   "mimetype": "text/x-python",
   "name": "python",
   "nbconvert_exporter": "python",
   "pygments_lexer": "ipython3",
   "version": "3.6.5"
  }
 },
 "nbformat": 4,
 "nbformat_minor": 2
}

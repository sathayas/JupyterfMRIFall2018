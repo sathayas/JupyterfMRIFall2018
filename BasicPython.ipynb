{
 "cells": [
  {
   "cell_type": "markdown",
   "metadata": {},
   "source": [
    "<p style='text-align:center'>\n",
    "PSY 394U <b>Methods for fMRI</b>, Fall 2018\n",
    "\n",
    "\n",
    "<img style='width: 300px; padding: 0px;' src='https://github.com/sathayas/JupyterfMRIFall2018/blob/master/Images/Placebo_Left.png?raw=true' alt='brain blobs'/>\n",
    "\n",
    "</p>\n",
    "\n",
    "<p style='text-align:center; font-size:40px; margin-bottom: 30px;'><b>Basics of Python coding</b></p>\n",
    "\n",
    "<p style='text-align:center; font-size:18px; margin-bottom: 32px;'><b>September 10 - 17, 2018</b></p>\n",
    "\n",
    "<hr style='height:5px;border:none' />"
   ]
  },
  {
   "cell_type": "markdown",
   "metadata": {},
   "source": [
    "# Essential Unix commands\n",
    "<hr style=\"height:1px;border:none\" />\n",
    "\n",
    "Before we get started with Python coding, I thought it is a good idea to learn a few essential Unix commands. Many coding tools and some software tools for neuroimaging can be interfaced by using Unix commands from a terminal. Although Unix is completely replaced by Linux, you can still use essential Unix commands on Linux and Mac OS to accomplish various operations (copying files, moving files, creating directories, etc.). So knowing a few Unix commands can be a useful asset.\n",
    "\n",
    "For this exercise, please open a terminal (for Mac and Linux users). \n",
    "\n",
    "*If you are using a **Windows** computer, I highly recommend installing a Unix-like virtual machine (VM) on your computer. There is a distribution of VM called FSLvm from FSL (https://fsl.fmrib.ox.ac.uk/fsl/fslwiki/FslInstallation/Windows). You can follow its installation instructions.*"
   ]
  },
  {
   "cell_type": "markdown",
   "metadata": {},
   "source": [
    "## `ls` command\n",
    "You can type a command\n",
    "```\n",
    "ls -l\n",
    "```\n",
    "and you will see a detailed list of items (files & directories) under your current directory. For example,\n",
    "```\n",
    "PSYC-A06168:~ sh45474$ ls -l\n",
    "total 0\n",
    "drwxrwxr-x@  3 sh45474  2066930642   102 Oct 10  2016 Creative Cloud Files\n",
    "drwx------+  4 sh45474  2066930642   136 Jun 29 14:23 Desktop\n",
    "drwx------+ 11 sh45474  2066930642   374 Dec  4  2017 Documents\n",
    "drwx------+ 11 sh45474  2066930642   374 Jul  2 22:31 Downloads\n",
    "drwx------@ 61 sh45474  2066930642  2074 Sep 14  2017 Library\n",
    "drwx------+  3 sh45474  2066930642   102 Mar 23  2016 Movies\n",
    "drwx------+  4 sh45474  2066930642   136 Apr  1  2016 Music\n",
    "drwx------+  7 sh45474  2066930642   238 Aug 19  2016 Pictures\n",
    "drwxr-xr-x+  5 sh45474  2066930642   170 Mar 23  2016 Public\n",
    "drwxr-xr-x   5 sh45474  2066930642   170 Mar 14  2017 SoftwareTools\n",
    "drwxr-xr-x   9 sh45474  2066930642   306 Apr 11 12:27 nltk_data\n",
    "drwxr-xr-x   3 sh45474  2066930642   102 Apr 25 21:42 scikit_learn_data\n",
    "```\n",
    "\n",
    "On this list, directories are denoted by **`d`** at the first character, whereas files are denoted by **`-`**.  Or, you can run **`ls`** command on its own, which gives just a list without details.\n",
    "```\n",
    "PSYC-A06168:~ sh45474$ ls\n",
    "Creative Cloud Files\tLibrary\t\t\tPublic\n",
    "Desktop\t\t\tMovies\t\t\tSoftwareTools\n",
    "Documents\t\tMusic\t\t\tnltk_data\n",
    "Downloads\t\tPictures\t\tscikit_learn_data\n",
    "```\n",
    "\n",
    "You can also run the `ls` command from a Jupyter notebook document. To do so, you have to type an exclamation mark (**`!`**) before the command (indicating that this is a Unix shell command, as opposed to a Python command)."
   ]
  },
  {
   "cell_type": "code",
   "execution_count": 1,
   "metadata": {},
   "outputs": [
    {
     "name": "stdout",
     "output_type": "stream",
     "text": [
      "total 0\r\n",
      "drwxrwxr-x@  3 sh45474  2066930642   102 Oct 10  2016 \u001b[34mCreative Cloud Files\u001b[m\u001b[m\r\n",
      "drwx------+  4 sh45474  2066930642   136 Jun 29 14:23 \u001b[34mDesktop\u001b[m\u001b[m\r\n",
      "drwx------+ 11 sh45474  2066930642   374 Dec  4  2017 \u001b[34mDocuments\u001b[m\u001b[m\r\n",
      "drwx------+ 11 sh45474  2066930642   374 Jul  2 22:31 \u001b[34mDownloads\u001b[m\u001b[m\r\n",
      "drwx------@ 61 sh45474  2066930642  2074 Sep 14  2017 \u001b[34mLibrary\u001b[m\u001b[m\r\n",
      "drwx------+  3 sh45474  2066930642   102 Mar 23  2016 \u001b[34mMovies\u001b[m\u001b[m\r\n",
      "drwx------+  4 sh45474  2066930642   136 Apr  1  2016 \u001b[34mMusic\u001b[m\u001b[m\r\n",
      "drwx------+  7 sh45474  2066930642   238 Aug 19  2016 \u001b[34mPictures\u001b[m\u001b[m\r\n",
      "drwxr-xr-x+  5 sh45474  2066930642   170 Mar 23  2016 \u001b[34mPublic\u001b[m\u001b[m\r\n",
      "drwxr-xr-x   5 sh45474  2066930642   170 Mar 14  2017 \u001b[34mSoftwareTools\u001b[m\u001b[m\r\n",
      "drwxr-xr-x   9 sh45474  2066930642   306 Apr 11 12:27 \u001b[34mnltk_data\u001b[m\u001b[m\r\n",
      "drwxr-xr-x   3 sh45474  2066930642   102 Apr 25 21:42 \u001b[34mscikit_learn_data\u001b[m\u001b[m\r\n"
     ]
    }
   ],
   "source": [
    "!ls -l ~"
   ]
  },
  {
   "cell_type": "markdown",
   "metadata": {},
   "source": [
    "Here I put a tilde (**`~`**) after `ls -l`. This is a shorthand notation of your home directory. If you run `ls -l` on Jupyter without a tilde, you will be a print out of the content of where your Jupyter notebook document is stored."
   ]
  },
  {
   "cell_type": "code",
   "execution_count": 2,
   "metadata": {},
   "outputs": [
    {
     "name": "stdout",
     "output_type": "stream",
     "text": [
      "total 72\r\n",
      "-rw-r--r--   1 sh45474  2066930642   5731 Jul 12 13:25 BasicPython.ipynb\r\n",
      "drwxr-xr-x  15 sh45474  2066930642    510 Jul 11 15:46 \u001b[34mImages\u001b[m\u001b[m\r\n",
      "-rw-r--r--   1 sh45474  2066930642  23219 Jul 12 12:57 Intro.ipynb\r\n",
      "-rw-r--r--   1 sh45474  2066930642    204 Jul 11 16:09 README.md\r\n"
     ]
    }
   ],
   "source": [
    "!ls -l"
   ]
  },
  {
   "cell_type": "markdown",
   "metadata": {},
   "source": [
    "## `mkdir` command\n",
    "You can create a directory with the **`mkdir`** command, followed by the name of the directory. Say, I want to create a directory called **`fMRI_stuff`** under my home directory, I can type\n",
    "```\n",
    "mkdir fMRI_stuff\n",
    "```\n",
    "Just to verify whether it was actually created, I run `ls -l` again.\n",
    "```\n",
    "PSYC-A06168:~ sh45474$ ls -l\n",
    "total 0\n",
    "drwxrwxr-x@  3 sh45474  2066930642   102 Oct 10  2016 Creative Cloud Files\n",
    "drwx------+  4 sh45474  2066930642   136 Jun 29 14:23 Desktop\n",
    "drwx------+ 11 sh45474  2066930642   374 Dec  4  2017 Documents\n",
    "drwx------+ 11 sh45474  2066930642   374 Jul  2 22:31 Downloads\n",
    "drwx------@ 61 sh45474  2066930642  2074 Sep 14  2017 Library\n",
    "drwx------+  3 sh45474  2066930642   102 Mar 23  2016 Movies\n",
    "drwx------+  4 sh45474  2066930642   136 Apr  1  2016 Music\n",
    "drwx------+  7 sh45474  2066930642   238 Aug 19  2016 Pictures\n",
    "drwxr-xr-x+  5 sh45474  2066930642   170 Mar 23  2016 Public\n",
    "drwxr-xr-x   5 sh45474  2066930642   170 Mar 14  2017 SoftwareTools\n",
    "drwxr-xr-x   2 sh45474  2066930642    68 Jul 12 13:32 fMRI_stuff\n",
    "drwxr-xr-x   9 sh45474  2066930642   306 Apr 11 12:27 nltk_data\n",
    "drwxr-xr-x   3 sh45474  2066930642   102 Apr 25 21:42 scikit_learn_data\n",
    "```\n",
    "\n",
    "And you can see it's there."
   ]
  },
  {
   "cell_type": "markdown",
   "metadata": {},
   "source": [
    "## `cd` command\n",
    "To move from one directory to another, you can use the **`cd`** command. Its syntax is\n",
    "```\n",
    "cd [directory name]\n",
    "```\n",
    "where `[directory name]` is the location you want to move. We can move to the `fMRI_stuff` directory we created earlier by\n",
    "```\n",
    "cd fMRI_stuff\n",
    "```\n",
    "To verify if you are really there, you can use the **`pwd`** command you saw earlier.\n",
    "```\n",
    "PSYC-A06168:fMRI_stuff sh45474$ pwd\n",
    "/Users/sh45474/fMRI_stuff\n",
    "```\n",
    "\n",
    "\n",
    "Note that your result is likely different from mine.\n",
    "\n",
    "Now let's create a directory called **`Data`**, and under `Data`, let's create a directory called **`func`**.\n",
    "```\n",
    "mkdir Data\n",
    "cd Data\n",
    "mkdir func\n",
    "```\n",
    "Then let's move to `func`. \n",
    "```\n",
    "cd func\n",
    "```\n",
    "The current directory is \n",
    "```\n",
    "PSYC-A06168:func sh45474$ pwd\n",
    "/Users/sh45474/fMRI_stuff/Data/func\n",
    "```\n",
    "\n",
    "At this point you can go back to `fMRI_stuff` (two directories above) by\n",
    "```\n",
    "cd ..\n",
    "cd ..\n",
    "```\n",
    "or \n",
    "```\n",
    "cd ../..\n",
    "```\n",
    "Here, double periods indicate one directory above.\n",
    "```\n",
    "PSYC-A06168:fMRI_stuff sh45474$ pwd\n",
    "/Users/sh45474/fMRI_stuff\n",
    "```\n",
    "\n",
    "Let's say, you want to go back to `func` directory. You can do\n",
    "```\n",
    "cd Data/func\n",
    "```\n",
    "This way of addressing the directory is called a **relative path**, originating from the  directory you are currently in.\n",
    "\n",
    "You can also go to the same directory by\n",
    "```\n",
    "cd /Users/sh45474/fMRI_stuff/Data/func\n",
    "```\n",
    "This way of addressing the directory is called an **absolute path**. This command works whichever directory you are currently in\n",
    "\n",
    "The **path** is the address for a directory or a file. It can be relative or absolute.\n"
   ]
  },
  {
   "cell_type": "markdown",
   "metadata": {},
   "source": [
    "## Other useful commands\n",
    "\n",
    "There are other useful Unix commands. I will to over them whenever we use one of these.\n",
    "<table>\n",
    "<tr>\n",
    "<th style=\"text-align:left\">Command</th>\n",
    "<th style=\"text-align:left\">What it does</th>\n",
    "<th style=\"text-align:left\">Syntax</th>\n",
    "</tr>\n",
    "<tr>\n",
    "<td style=\"text-align:left\">cat</td><td style=\"text-align:left\">Prints a text file on a screen</td><td style=\"text-align:left\">cat [file name]</td>\n",
    "</tr>\n",
    "<tr>\n",
    "<td style=\"text-align:left\">cp</td><td style=\"text-align:left\">Copies a file or a directory</td><td style=\"text-align:left\">cp [original item] [copied item]</td>\n",
    "</tr>\n",
    "<tr>\n",
    "<td style=\"text-align:left\">gzip</td><td style=\"text-align:left\">Compresses a file (.gz added)</td><td style=\"text-align:left\">gzip [file]</td>\n",
    "</tr>\n",
    "<tr>\n",
    "<td style=\"text-align:left\">gzip -d </td><td style=\"text-align:left\">Uncompresses a file (.gz removed)</td><td style=\"text-align:left\">gzip -d [file].gz</td>\n",
    "</tr>\n",
    "\n",
    "<tr>\n",
    "<td style=\"text-align:left\">more</td><td style=\"text-align:left\">Prints a text file on a screen (pagenated version)</td><td style=\"text-align:left\">more [file name]</td>\n",
    "</tr>\n",
    "<tr>\n",
    "<td style=\"text-align:left\">mv</td><td style=\"text-align:left\">Moves a file or a directory</td><td style=\"text-align:left\">mv [origin] [target]</td>\n",
    "</tr>\n",
    "<tr>\n",
    "<td style=\"text-align:left\">rm</td><td style=\"text-align:left\">Deletes a file</td><td style=\"text-align:left\">rm [file name]</td>\n",
    "</tr>\n",
    "<tr>\n",
    "<td style=\"text-align:left\">rmdir</td><td style=\"text-align:left\">Deletes a directory</td><td style=\"text-align:left\">rmdir [directory name]</td>\n",
    "</tr>\n",
    "</table>\n",
    "\n"
   ]
  },
  {
   "cell_type": "markdown",
   "metadata": {},
   "source": [
    "# Operators\n",
    "<hr style=\"height:1px;border:none\" />\n",
    "\n",
    "In your Python shell, try typing the following.\n"
   ]
  },
  {
   "cell_type": "code",
   "execution_count": 5,
   "metadata": {},
   "outputs": [
    {
     "data": {
      "text/plain": [
       "4"
      ]
     },
     "execution_count": 5,
     "metadata": {},
     "output_type": "execute_result"
    }
   ],
   "source": [
    "2 + 2"
   ]
  },
  {
   "cell_type": "markdown",
   "metadata": {},
   "source": [
    "This is a simple example of an expression. An expression is an instruction consisting of numbers (e.g., 2) and mathematical operators (e.g. +). Any space in an expression is ignored. In addition to (no pun intended) addition (`+`), there are other operators:\n",
    "\n",
    "  * Addition: `+`\n",
    "  * Subtraction: `-`\n",
    "  * Multiplication: `*`\n",
    "  * Integer division: `//`\n",
    "  * Division: `/`\n",
    "  * Remainder after division: `%`\n",
    "  * Exponent: `**`\n",
    "  \n",
    "## Application\n",
    "\n",
    "### Scenario 1\n",
    "Now consider the following scenario. You bought lunch for 3 of your friends and yourself. Each person had a sandwich (\\$6.50) and a soda (\\$1.50). How much in total did you pay?\n",
    "\n",
    "In this scenario, you pay \\$6.50 + \\$1.50 per person. Since there are 4 of you, you paid"
   ]
  },
  {
   "cell_type": "code",
   "execution_count": 6,
   "metadata": {},
   "outputs": [
    {
     "data": {
      "text/plain": [
       "32.0"
      ]
     },
     "execution_count": 6,
     "metadata": {},
     "output_type": "execute_result"
    }
   ],
   "source": [
    "(6.50+1.50)*4"
   ]
  },
  {
   "cell_type": "markdown",
   "metadata": {},
   "source": [
    "### Scenario 2\n",
    "Your fMRI experiment consists of 10 epochs of finger tapping (25s), and each epoch followed by 25s of rest. Before the first epoch, there is 15s of rest. What is the total duration of this experiment (in s)?"
   ]
  },
  {
   "cell_type": "code",
   "execution_count": 7,
   "metadata": {},
   "outputs": [
    {
     "data": {
      "text/plain": [
       "515"
      ]
     },
     "execution_count": 7,
     "metadata": {},
     "output_type": "execute_result"
    }
   ],
   "source": [
    "15 + 10*(25 + 25)"
   ]
  },
  {
   "cell_type": "markdown",
   "metadata": {},
   "source": [
    "### Scenario 3\n",
    "If you have \\$20, how many sodas (\\$1.50 each) can you buy on a vending machine?"
   ]
  },
  {
   "cell_type": "code",
   "execution_count": 8,
   "metadata": {},
   "outputs": [
    {
     "data": {
      "text/plain": [
       "13.0"
      ]
     },
     "execution_count": 8,
     "metadata": {},
     "output_type": "execute_result"
    }
   ],
   "source": [
    "20 // 1.50"
   ]
  },
  {
   "cell_type": "markdown",
   "metadata": {},
   "source": [
    "And what would be the remainder after you buy that many sodas?"
   ]
  },
  {
   "cell_type": "code",
   "execution_count": 10,
   "metadata": {},
   "outputs": [
    {
     "data": {
      "text/plain": [
       "0.5"
      ]
     },
     "execution_count": 10,
     "metadata": {},
     "output_type": "execute_result"
    }
   ],
   "source": [
    "20 % 1.50"
   ]
  },
  {
   "cell_type": "markdown",
   "metadata": {},
   "source": [
    "### Exercise\n",
    "1. **How many scans**. Say, you are given a pilot grant of \\$3,000 to scan subjects on an MRI scanner. You will be charged \\$435 for the MRI scan for each subject. How many subjects can you scan with your pilot grant? (Post the solution formula on Canvas)\n",
    "2. **How many stimuli**. You are designing an experiment with two conditions: listening to a story in English (Condition 1) and in Spanish (Condition 2). Each condition is 15s long, and has to be followed by 25s of silence. Your experiment has to have the same number of both conditions, and has to be under 10 minutes. How many Conditions 1 and 2 can you include in your experiment? (Post the solution formula on Canvas)"
   ]
  },
  {
   "cell_type": "markdown",
   "metadata": {},
   "source": [
    "## String operators\n",
    "In addition to numerical data, Python can also handle text data, also known as strings. A string is a series of characters (including space), and often denoted with quotation marks (') or (\")."
   ]
  },
  {
   "cell_type": "code",
   "execution_count": 13,
   "metadata": {},
   "outputs": [
    {
     "data": {
      "text/plain": [
       "'Hello!'"
      ]
     },
     "execution_count": 13,
     "metadata": {},
     "output_type": "execute_result"
    }
   ],
   "source": [
    "'Hello!'"
   ]
  },
  {
   "cell_type": "markdown",
   "metadata": {},
   "source": [
    "If you forget quotation marks, then you will likely get an error message"
   ]
  },
  {
   "cell_type": "code",
   "execution_count": 14,
   "metadata": {},
   "outputs": [
    {
     "ename": "NameError",
     "evalue": "name 'Hello' is not defined",
     "output_type": "error",
     "traceback": [
      "\u001b[0;31m---------------------------------------------------------------------------\u001b[0m",
      "\u001b[0;31mNameError\u001b[0m                                 Traceback (most recent call last)",
      "\u001b[0;32m<ipython-input-14-1d229271928d>\u001b[0m in \u001b[0;36m<module>\u001b[0;34m()\u001b[0m\n\u001b[0;32m----> 1\u001b[0;31m \u001b[0mHello\u001b[0m\u001b[0;34m\u001b[0m\u001b[0m\n\u001b[0m",
      "\u001b[0;31mNameError\u001b[0m: name 'Hello' is not defined"
     ]
    }
   ],
   "source": [
    "Hello"
   ]
  },
  {
   "cell_type": "markdown",
   "metadata": {},
   "source": [
    "These are examples of strings:\n",
    "```python\n",
    "'a', 'AA', 'Aaaargh!', 'Hello World!', '24', '24 x 7'\n",
    "```\n",
    "\n",
    "As you have already seen before, you can concatenate two strings with `+`. For example,\n"
   ]
  },
  {
   "cell_type": "code",
   "execution_count": 15,
   "metadata": {},
   "outputs": [
    {
     "data": {
      "text/plain": [
       "'Maroon5'"
      ]
     },
     "execution_count": 15,
     "metadata": {},
     "output_type": "execute_result"
    }
   ],
   "source": [
    "'Maroon' + '5'"
   ]
  },
  {
   "cell_type": "markdown",
   "metadata": {},
   "source": [
    "You can also repeat string data with `*`. For example,"
   ]
  },
  {
   "cell_type": "code",
   "execution_count": 16,
   "metadata": {},
   "outputs": [
    {
     "data": {
      "text/plain": [
       "'Yum! Yum! Yum! '"
      ]
     },
     "execution_count": 16,
     "metadata": {},
     "output_type": "execute_result"
    }
   ],
   "source": [
    "'Yum! ' * 3"
   ]
  },
  {
   "cell_type": "markdown",
   "metadata": {},
   "source": [
    "# Variables and lists\n",
    "<hr style=\"height:1px;border:none\" />\n",
    "\n",
    "# Conditions\n",
    "<hr style=\"height:1px;border:none\" />\n",
    "\n",
    "# `while` and `for` loops\n",
    "<hr style=\"height:1px;border:none\" />\n",
    "\n",
    "# Functions\n",
    "<hr style=\"height:1px;border:none\" />\n",
    "\n",
    "# Arrays\n",
    "<hr style=\"height:1px;border:none\" />\n",
    "\n",
    "# Image data\n",
    "<hr style=\"height:1px;border:none\" />"
   ]
  }
 ],
 "metadata": {
  "kernelspec": {
   "display_name": "Python 3",
   "language": "python",
   "name": "python3"
  },
  "language_info": {
   "codemirror_mode": {
    "name": "ipython",
    "version": 3
   },
   "file_extension": ".py",
   "mimetype": "text/x-python",
   "name": "python",
   "nbconvert_exporter": "python",
   "pygments_lexer": "ipython3",
   "version": "3.6.5"
  }
 },
 "nbformat": 4,
 "nbformat_minor": 2
}

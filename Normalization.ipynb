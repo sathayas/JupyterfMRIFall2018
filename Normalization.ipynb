{
 "cells": [
  {
   "cell_type": "markdown",
   "metadata": {},
   "source": [
    "<p style='text-align:center'>\n",
    "PSY 394U <b>Methods for fMRI</b>, Fall 2018\n",
    "\n",
    "\n",
    "<img style='width: 300px; padding: 0px;' src='https://github.com/sathayas/JupyterfMRIFall2018/blob/master/Images/Placebo_Left.png?raw=true' alt='brain blobs'/>\n",
    "\n",
    "</p>\n",
    "\n",
    "<p style='text-align:center; font-size:40px; margin-bottom: 30px;'><b> Normalization </b></p>\n",
    "\n",
    "<p style='text-align:center; font-size:18px; margin-bottom: 32px;'><b> October 1, 2018</b></p>\n",
    "\n",
    "<hr style='height:5px;border:none' />"
   ]
  },
  {
   "cell_type": "markdown",
   "metadata": {},
   "source": [
    "# Brief introduction to Nipype\n",
    "<hr style=\"height:1px;border:none\" />\n",
    "\n",
    "## Steps in fMRI data analysis\n",
    "\n",
    "Although there are different software tools designed for fMRI data analysis, the steps required for such an analysis is very similar for the most part. \n",
    "\n",
    "<img style='width: 650px; padding: 0px;' src='https://github.com/sathayas/JupyterfMRIFall2018/blob/master/Images/Nipype_NeuroImageSchematic.png?raw=true' alt='fMRI processing steps'/>\n",
    "\n",
    "Different software packages implements these steps to analyze fMRI data. So, in theory, it is possible to mix different steps from different software tools but you can still implement all the necessary steps.\n",
    "\n",
    "## Why nipype?\n",
    "\n",
    "Different fMRI analysis software tools have their own scripting capability. In other words, each package lets you write a script (a series of instructions) to implement the entire analysis pipeline from the beginning to the end. This is useful especially you have to run the same pre-processing and analysis steps for multiple subjects. Analyzing multiple subjects' data using a GUI will increase the risk of human error (clicking a wrong button, selecting a wrong file, entering wrong parameters, etc.). \n",
    "\n",
    "The syntax to script a processing pipeline is different in different packages. For a starter, in SPM you write a script in MATLAB, whereas in FSL, you need to code in a shell script. **Nipype** enables you to script different steps in different software tools in Python, so that mixing of different steps very easy.\n",
    "\n",
    "<img style='width: 650px; padding: 0px;' src='https://github.com/sathayas/JupyterfMRIFall2018/blob/master/Images/Nipype_WorkflowEg.png?raw=true' alt='Nipype workflow example'/>\n",
    "\n",
    "Here is an example of how `nipype` implements different steps. The diagram such as this one represents a **workflow**, a series of tasks organized into a diagram, with output from one task fed into the following task. Here, each task is represented as a **node**. A node may take a certain input(s) and produces an output. "
   ]
  },
  {
   "cell_type": "markdown",
   "metadata": {},
   "source": [
    "# Preprocessing steps as objects\n",
    "<hr style=\"height:1px;border:none\" />\n",
    "\n",
    "* Skull stripping (FSL)\n",
    "* Segmentation\n",
    "    * FSL\n",
    "    * SPM"
   ]
  },
  {
   "cell_type": "markdown",
   "metadata": {},
   "source": [
    "# Normalization - Theory\n",
    "<hr style=\"height:1px;border:none\" />\n",
    "\n",
    "## What is normalization?\n",
    "\n",
    "As you can imagine, everybody's head has a different shape, thus everybody's brain is different. Consequently, comparing brains from multiple people can be challenging. One solution is to *warp* everybody's brain into the standard shape brain (often referred as the **template**) so that we can compare brains across subjects.\n",
    "\n",
    "<img style='width: 650px; padding: 0px;' src='https://github.com/sathayas/JupyterfMRIFall2018/blob/master/Images/Normalization_Concept.png?raw=true' alt='Idea of normalization'/>\n",
    "\n",
    "Normalization is typically performed using a subject's structural MRI data. The warp from the subject's **native space** to the **template space** is often estimated.  \n",
    "\n",
    "### Native and template spaces\n",
    "\n",
    "What is a **native space**? This refers to the subject's original brain space ***before*** warping. Since voxel coordinates for particular anatomical landmarks are specific to each subject, native space coordinates are rarely reported. \n",
    "\n",
    "<img style='width: 400px; padding: 0px;' src='https://github.com/sathayas/JupyterfMRIFall2018/blob/master/Images/Normalization_NativeSpace.png?raw=true' alt='Native space'/>\n",
    "\n",
    "What is the **template space**? This refers to, as you can imagine from the name, the space of the template image. Voxel coordinates from the template space are often reported in the literature since it is in the standard space. \n",
    "\n",
    "<img style='width: 400px; padding: 0px;' src='https://github.com/sathayas/JupyterfMRIFall2018/blob/master/Images/Normalization_TemplateSpace.png?raw=true' alt='Template space'/>\n",
    "\n",
    "In the early days of brain imaging research (in the 90s and early 2000), people used the Talairach atlas (by Talairach & Tournoux, 1988) as the template. The Talairach atlas is defined based on a single post-mortem brain. Today, the MNI (Montreal Neurological Institute) template is most widely used. The MNI template is the average of 152 high resolution brain images (of young adults) warped with high-dimensional transformation to a common space. "
   ]
  },
  {
   "cell_type": "markdown",
   "metadata": {},
   "source": [
    "## How are images normalized\n",
    "\n",
    "In many software packages, normalization is performed in two steps; a **linear** registration followed by a **non-linear** registration\n",
    "\n",
    "### Linear registration\n",
    "\n",
    "The goal of linear registration is to roughly match a subject's brain with the template brain. A linear registration consists of 4 different types of mathematical operations (translation, rotation, scaling, and shear) in 3 different directions (x-, y-, and z-directions). These transformations are often referred as the **affine transformation**. In total, there are 12 possible operations in an affine transformation, it can be described in a 3x4 matrix, known as an *affine matrix*.\n",
    "\n",
    "<img style='width: 600px; padding: 0px;' src='https://github.com/sathayas/JupyterfMRIFall2018/blob/master/Images/Normalization_Linear.png?raw=true' alt='Linear registration'/>\n",
    "\n",
    "\n",
    "A linear registration is applied to the entire image, without any local refinement.\n",
    "\n",
    "### Non-linear registration\n",
    "\n",
    "The goal of non-linear registration is to warp an image locally to match the template as much as possible. Since non-linear registration is performed locally, a very large number of parameters are needed to describe such a transformation. A sophisticate non-linear registration algorithm requires significant computational resources (like, a super-computer) and hours of calculation. Algorithms used by fMRI analysis packages are much less sophisticated, and can be run on a decent work station in 30 min or less. However, even such simple algorithms require thousands of parameters.\n",
    "\n",
    "<img style='width: 450px; padding: 0px;' src='https://github.com/sathayas/JupyterfMRIFall2018/blob/master/Images/Normalization_NonLinear.png?raw=true' alt='Non-linear registration'/>\n"
   ]
  },
  {
   "cell_type": "markdown",
   "metadata": {},
   "source": [
    "* Cost function\n",
    "* Regularization"
   ]
  },
  {
   "cell_type": "markdown",
   "metadata": {},
   "source": [
    "# Normalization with Nipype\n",
    "<hr style=\"height:1px;border:none\" />\n",
    "\n",
    "* With FSL\n",
    "* With SPM\n",
    "* With ANTs\n",
    "* Quality control\n",
    "   * Overlay\n",
    "   * Average\n",
    "   * Movie\n",
    "* Exercise\n",
    "   * Different levels of regularization\n",
    "   "
   ]
  },
  {
   "cell_type": "markdown",
   "metadata": {},
   "source": [
    "# Normalization with a template\n",
    "<hr style=\"height:1px;border:none\" />\n",
    "\n",
    "* Pediatric template\n",
    "* Exercise\n",
    "    * Difference between regular template vs pediatric template"
   ]
  }
 ],
 "metadata": {
  "kernelspec": {
   "display_name": "Python 3",
   "language": "python",
   "name": "python3"
  },
  "language_info": {
   "codemirror_mode": {
    "name": "ipython",
    "version": 3
   },
   "file_extension": ".py",
   "mimetype": "text/x-python",
   "name": "python",
   "nbconvert_exporter": "python",
   "pygments_lexer": "ipython3",
   "version": "3.6.5"
  }
 },
 "nbformat": 4,
 "nbformat_minor": 2
}

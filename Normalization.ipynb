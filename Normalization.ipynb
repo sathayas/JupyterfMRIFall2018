{
 "cells": [
  {
   "cell_type": "markdown",
   "metadata": {},
   "source": [
    "<p style='text-align:center'>\n",
    "PSY 394U <b>Methods for fMRI</b>, Fall 2018\n",
    "\n",
    "\n",
    "<img style='width: 300px; padding: 0px;' src='https://github.com/sathayas/JupyterfMRIFall2018/blob/master/Images/Placebo_Left.png?raw=true' alt='brain blobs'/>\n",
    "\n",
    "</p>\n",
    "\n",
    "<p style='text-align:center; font-size:40px; margin-bottom: 30px;'><b> Normalization </b></p>\n",
    "\n",
    "<p style='text-align:center; font-size:18px; margin-bottom: 32px;'><b> October 1, 2018</b></p>\n",
    "\n",
    "<hr style='height:5px;border:none' />"
   ]
  },
  {
   "cell_type": "markdown",
   "metadata": {},
   "source": [
    "# Brief introduction to Nipype\n",
    "<hr style=\"height:1px;border:none\" />\n",
    "\n",
    "* Steps in fMRI data analysis\n",
    "* Why Nipype?"
   ]
  },
  {
   "cell_type": "markdown",
   "metadata": {},
   "source": [
    "# Normalization - Theory\n",
    "<hr style=\"height:1px;border:none\" />\n",
    "\n",
    "* What is normalization?\n",
    "* Linear\n",
    "* Non-linear\n",
    "   * Various warping methods\n",
    "* Cost function\n",
    "* Regularization"
   ]
  },
  {
   "cell_type": "markdown",
   "metadata": {},
   "source": [
    "# Normalization with Nipype\n",
    "<hr style=\"height:1px;border:none\" />\n",
    "\n",
    "* With FSL\n",
    "* With SPM\n",
    "* With ANTs"
   ]
  },
  {
   "cell_type": "markdown",
   "metadata": {},
   "source": [
    "# Normalization with a template\n",
    "<hr style=\"height:1px;border:none\" />\n",
    "\n",
    "* Pediatric template\n",
    "* Study-specific template"
   ]
  },
  {
   "cell_type": "markdown",
   "metadata": {},
   "source": [
    "# Normalization of \n",
    "<hr style=\"height:1px;border:none\" />\n",
    "\n",
    "* Pediatric template\n",
    "* Study-specific template"
   ]
  }
 ],
 "metadata": {
  "kernelspec": {
   "display_name": "Python 3",
   "language": "python",
   "name": "python3"
  },
  "language_info": {
   "codemirror_mode": {
    "name": "ipython",
    "version": 3
   },
   "file_extension": ".py",
   "mimetype": "text/x-python",
   "name": "python",
   "nbconvert_exporter": "python",
   "pygments_lexer": "ipython3",
   "version": "3.5.5"
  }
 },
 "nbformat": 4,
 "nbformat_minor": 2
}

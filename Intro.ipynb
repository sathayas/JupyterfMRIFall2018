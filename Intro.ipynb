{
 "cells": [
  {
   "cell_type": "markdown",
   "metadata": {},
   "source": [
    "<p style='text-align:center'/>\n",
    "PSY 394U <b>Methods for fMRI</b>, Fall 2018\n",
    "\n",
    "\n",
    "<img style='width: 300px; padding: 0px;' src='https://github.com/sathayas/JupyterfMRIFall2018/blob/master/Images/Placebo_Left.png?raw=true' alt='brain blobs'/>\n",
    "\n",
    "</p>\n",
    "\n",
    "<p style='text-align:center; font-size:40px; margin-bottom: 30px;'/><b>Overview of the Course and the Tools</b></p>\n",
    "\n",
    "<p style='text-align:center; font-size:18px; margin-bottom: 32px;'/><b>September 10, 2018</b></p>\n",
    "\n",
    "<hr style='height:5px;border:none' />"
   ]
  },
  {
   "cell_type": "markdown",
   "metadata": {},
   "source": [
    "# Syllabus (executive summary)\n",
    "<hr style=\"height:1px;border:none\" />\n",
    "\n",
    "## Instructor\n",
    "\n",
    "**Satoru Hayasaka**\n",
    "  * **Office**: SEA 2.214\n",
    "  * **Email**: hayasaka@utexas.edu\n",
    "  * **Office hours**: 10:00-11:30am, Mon & Fri - Or by appointment\n",
    "  \n",
    "  \n",
    "## What this course is about\n",
    "\n",
    "***In this course, you will learn more than how to press buttons on a particular analysis software tool.*** Instead, there will be lots of coding! It is becoming more common among neuroimaging researchers to code and construct their own pipeline to meet their particular data analysis needs. You will learn concepts associated with various steps of preprocessing and analyses. In addition, you will learn how to code an analysis pipeline so that you can tailor it for your need.\n",
    "\n",
    "## Required tools\n",
    "\n",
    "### Hardware\n",
    "#### Computer\n",
    "You will need a computer that can handle a typical fMRI study data for preprocessing and data analysis. I recommend a system with at least 4GB of RAM per CPU core.\n",
    "\n",
    "  * **If your lab has a computer for fMRI data processing**:\n",
    "    * Great! You should remote-login to that computer via your laptop or an iMac in the classroom.\n",
    "  * **If you have access to TACC**:\n",
    "    * TACC is a supercomputer located somewhere at UT\n",
    "    * You should be able to perform necessary data processing for this course using TACC\n",
    "    * You should remote-login to TACC via your laptop or an iMac in the classroom.\n",
    "  * **If you have an awesome laptop with a fast CPU and plenty of RAM and disk space**:\n",
    "    * You may use your laptop for analyses for this course, but I do not recommend it.\n",
    "    * Some preprocessing steps may take hours, and you may have to leave your laptop running during that time.\n",
    "  * **If you are not a part of a brain imaging lab**:\n",
    "    * You may use an iMac in the classroom. \n",
    "    * Your codes and data will reside on that particular iMac. Thus you must log on to the same iMac every time you work on data analyses.\n",
    "    * It is possible to remote-log in to an iMac in the classroom, from another Mac, IF no one else is using the iMac at that moment. There is no way to guarantee this.\n",
    "\n",
    "#### Storage\n",
    "Neuroimaging data are huge. Be prepare to store 50+GB of data somewhere (on your computer or on a network drive).\n",
    "\n",
    "\n",
    "### Software\n",
    "\n",
    "#### FSL or SPM\n",
    "You have to have either of these packages. If you have both, that's great!\n",
    "\n",
    "#### MATLAB\n",
    "If you choose to use SPM, you need MATLAB in addition. You should be able to get it free through UT. You need MATLAB to install SPM.\n",
    "\n",
    "#### Python\n",
    "Version 3.5 or later. You can download Python free from various distributions.\n",
    "  * *IDLE* (https://www.python.org/downloads/)\n",
    "  * *Anaconda* (https://anaconda.org/anaconda/python)\n",
    "    * ***NB***: Anaconda Python may overwrite some libraries & programs on Mac\n",
    "\n"
   ]
  },
  {
   "cell_type": "markdown",
   "metadata": {},
   "source": [
    "# Git\n",
    "# GitHub\n",
    "# Jupyter Notebook\n",
    "# Python: Hello World"
   ]
  },
  {
   "cell_type": "code",
   "execution_count": null,
   "metadata": {},
   "outputs": [],
   "source": []
  }
 ],
 "metadata": {
  "kernelspec": {
   "display_name": "Python 3",
   "language": "python",
   "name": "python3"
  },
  "language_info": {
   "codemirror_mode": {
    "name": "ipython",
    "version": 3
   },
   "file_extension": ".py",
   "mimetype": "text/x-python",
   "name": "python",
   "nbconvert_exporter": "python",
   "pygments_lexer": "ipython3",
   "version": "3.6.5"
  }
 },
 "nbformat": 4,
 "nbformat_minor": 2
}

{
 "cells": [
  {
   "cell_type": "markdown",
   "metadata": {},
   "source": [
    "<p style='text-align:center'>\n",
    "PSY 394U <b>Methods for fMRI</b>, Fall 2018\n",
    "\n",
    "\n",
    "<img style='width: 300px; padding: 0px;' src='https://github.com/sathayas/JupyterfMRIFall2018/blob/master/Images/Placebo_Left.png?raw=true' alt='brain blobs'/>\n",
    "\n",
    "</p>\n",
    "\n",
    "<p style='text-align:center; font-size:40px; margin-bottom: 30px;'><b> fMRI pre-processing </b></p>\n",
    "\n",
    "<p style='text-align:center; font-size:18px; margin-bottom: 32px;'><b> October 29 - November 5, 2018</b></p>\n",
    "\n",
    "<hr style='height:5px;border:none' />"
   ]
  },
  {
   "cell_type": "markdown",
   "metadata": {},
   "source": [
    "# Overview of pre-processing steps\n",
    "\n",
    "We have seen in the previous classes how to normalize structural MRI data to the template space. Starting today, we will learn how to pre-process an fMRI data set so that it will be ready to be analyzed. There are several steps in fMRI pre-processing, and different software tools implement different steps at different stages of preprocessing. Here, my goal is to show some essential steps in pre-processing; whey these steps are needed, and how they can be implemented.\n",
    "\n",
    "Here are steps of fMRI pre-processing. The order may vary in different software packages, but the idea behind these steps is the same.\n",
    "\n",
    "  1. **Slice timing correction**: Corrects for the time differences slice acquisition\n",
    "  2. **Motion correction / realignment**: Corrects for any spatial displacement during fMRI acquisition\n",
    "  3. **Artifact detection**: Corrects for any physiological artifacts during acquisition\n",
    "  4. **Co-registration**: Re-orients the image in the same space as the T1-weighted image\n",
    "  5. **Normalization**: Applies the warping from T1-image normalization to transform fMRI data into the template space\n",
    "  6. **Temporal filtering**: Eliminates low-frequency drift in BOLD fMRI time series\n",
    "  7. **Spatial smoothing**: Smooth fMRI data with a Gaussian kernel"
   ]
  }
 ],
 "metadata": {
  "kernelspec": {
   "display_name": "Python 3",
   "language": "python",
   "name": "python3"
  },
  "language_info": {
   "codemirror_mode": {
    "name": "ipython",
    "version": 3
   },
   "file_extension": ".py",
   "mimetype": "text/x-python",
   "name": "python",
   "nbconvert_exporter": "python",
   "pygments_lexer": "ipython3",
   "version": "3.6.5"
  }
 },
 "nbformat": 4,
 "nbformat_minor": 2
}

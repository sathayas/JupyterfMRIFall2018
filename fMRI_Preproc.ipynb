{
 "cells": [
  {
   "cell_type": "markdown",
   "metadata": {},
   "source": [
    "<p style='text-align:center'>\n",
    "PSY 394U <b>Methods for fMRI</b>, Fall 2018\n",
    "\n",
    "\n",
    "<img style='width: 300px; padding: 0px;' src='https://github.com/sathayas/JupyterfMRIFall2018/blob/master/Images/Placebo_Left.png?raw=true' alt='brain blobs'/>\n",
    "\n",
    "</p>\n",
    "\n",
    "<p style='text-align:center; font-size:40px; margin-bottom: 30px;'><b> fMRI pre-processing </b></p>\n",
    "\n",
    "<p style='text-align:center; font-size:18px; margin-bottom: 32px;'><b> November 5, 2018</b></p>\n",
    "\n",
    "<hr style='height:5px;border:none' />"
   ]
  },
  {
   "cell_type": "markdown",
   "metadata": {},
   "source": [
    "# Overview of pre-processing steps\n",
    "\n",
    "We have seen in the previous classes how to normalize structural MRI data to the template space. Starting today, we will learn how to pre-process an fMRI data set so that it will be ready to be analyzed. There are several steps in fMRI pre-processing, and different software tools implement different steps at different stages of preprocessing. Here, my goal is to show some essential steps in pre-processing; whey these steps are needed, and how they can be implemented.\n",
    "\n",
    "Here are steps of fMRI pre-processing. The order may vary in different software packages, but the idea behind these steps is the same.\n",
    "\n",
    "  1. **Slice timing correction**: Corrects for the time differences slice acquisition\n",
    "  2. **Motion correction / realignment**: Corrects for any spatial displacement during fMRI acquisition\n",
    "  3. **Artifact detection**: Corrects for any physiological artifacts during acquisition\n",
    "  4. **Co-registration**: Re-orients the image in the same space as the T1-weighted image\n",
    "  5. **Normalization**: Applies the warping from T1-image normalization to transform fMRI data into the template space\n",
    "  6. **Temporal filtering**: Eliminates low-frequency drift in BOLD fMRI time series\n",
    "  7. **Spatial smoothing**: Smooth fMRI data with a Gaussian kernel"
   ]
  },
  {
   "cell_type": "markdown",
   "metadata": {},
   "source": [
    "# Slice timing correction\n",
    "\n",
    "## What is slice timing correction?\n",
    "\n",
    "A typical 3D fMRI image is acquired as a series of 2D images, acquired in a certain order.\n",
    "\n",
    "<img style='width: 400px; padding: 0px;' src='https://github.com/sathayas/JupyterfMRIFall2018/blob/master/Images/Preproc_SliceSeq.png?raw=true' alt='Sequential acquisition'/>\n",
    "\n",
    "<p style='text-align:center; font-size:14px; margin-bottom: 32px; margin-top: 0px'> <i>Sequential (from top to bottom) </i> </p>\n",
    "\n",
    "\n",
    "<img style='width: 400px; padding: 0px;' src='https://github.com/sathayas/JupyterfMRIFall2018/blob/master/Images/Preproc_SliceInter.png?raw=true' alt='Interleaved acquisition'/>\n",
    "\n",
    "<p style='text-align:center; font-size:14px; margin-bottom: 32px; margin-top: 0px'> <i>Interleaved (odd slices, then even slices)</i> </p>\n",
    "\n",
    "That means there is a delay between the slices acquired first and last, for example. That means these slices are capturing fMRI signal at the different time points. Slice timing correction corrects such differences by signal interpolation and phase shift.\n",
    "\n",
    "\n",
    "## Slice timing correction or temporal derivatives?\n",
    "\n",
    "If TR (repetition time - time required to acquire a single volume) is sufficiently short (<2 Sec), then you can correct slice timing differences by including temporal derivatives in your first-level regression model (to be covered later). \n",
    "\n",
    "## Slice timing correction with Nipype\n",
    "\n",
    "Both SPM and FSL have slice timing correction. Here are code snippet examples implementing a slice timing correction for interleaved acquisition. ***They are not complete programs, but code snippets defining a node***.\n",
    "\n",
    "### FSL"
   ]
  },
  {
   "cell_type": "markdown",
   "metadata": {},
   "source": [
    "`<SliceTime_fsl.py>`"
   ]
  },
  {
   "cell_type": "code",
   "execution_count": null,
   "metadata": {},
   "outputs": [],
   "source": [
    "from nipype.interfaces import fsl\n",
    "\n",
    "sliceTime = Node(fsl.slicetimer(interleaved = True,  # interleaved\n",
    "                                time_repetition = 2.5,  # TR in Sec\n",
    "                                ),\n",
    "                 name='sliceTime')\n",
    "\n",
    "# To connect with other nodes, here are input and output parameters:\n",
    "#\n",
    "# input:   in_file\n",
    "# output:  slice_time_corrected_file\n",
    "#"
   ]
  },
  {
   "cell_type": "markdown",
   "metadata": {},
   "source": [
    "It is possible to specify slice order or timing for custom cases (e.g., multi-band acquisition). For more details, please consult **`fsl.slicetimer.help()`**."
   ]
  },
  {
   "cell_type": "markdown",
   "metadata": {},
   "source": [
    "### SPM"
   ]
  },
  {
   "cell_type": "markdown",
   "metadata": {},
   "source": [
    "`<SliceTime_spm.py>`"
   ]
  },
  {
   "cell_type": "code",
   "execution_count": null,
   "metadata": {},
   "outputs": [],
   "source": [
    "from nipype.interfaces import spm\n",
    "\n",
    "sliceTime = Node(spm.SliceTiming(num_slices = 32,  # number of slices\n",
    "                                 time_repetition = 2.5,   # TR in sec\n",
    "                                 time_acquisition = 2.5 - 2.5/32,  # acqu time\n",
    "                                 slice_order = list(range(31,0,-2))+list(range(32,0,-2)),\n",
    "                                                   # slice timing, interleaved\n",
    "                                 ref_slice = 1     # reference slice\n",
    "                                 )\n",
    "\n",
    "# To connect with other nodes, here are input and output parameters:\n",
    "#\n",
    "# input:   in_files\n",
    "# output:  timecorrected_files\n",
    "#"
   ]
  },
  {
   "cell_type": "markdown",
   "metadata": {},
   "source": [
    "# Motion correction / realignment"
   ]
  }
 ],
 "metadata": {
  "kernelspec": {
   "display_name": "Python 3",
   "language": "python",
   "name": "python3"
  },
  "language_info": {
   "codemirror_mode": {
    "name": "ipython",
    "version": 3
   },
   "file_extension": ".py",
   "mimetype": "text/x-python",
   "name": "python",
   "nbconvert_exporter": "python",
   "pygments_lexer": "ipython3",
   "version": "3.5.5"
  }
 },
 "nbformat": 4,
 "nbformat_minor": 2
}

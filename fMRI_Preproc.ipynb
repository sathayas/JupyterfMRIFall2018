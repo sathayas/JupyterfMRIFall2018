{
 "cells": [
  {
   "cell_type": "markdown",
   "metadata": {},
   "source": [
    "<p style='text-align:center'>\n",
    "PSY 394U <b>Methods for fMRI</b>, Fall 2018\n",
    "\n",
    "\n",
    "<img style='width: 300px; padding: 0px;' src='https://github.com/sathayas/JupyterfMRIFall2018/blob/master/Images/Placebo_Left.png?raw=true' alt='brain blobs'/>\n",
    "\n",
    "</p>\n",
    "\n",
    "<p style='text-align:center; font-size:40px; margin-bottom: 30px;'><b> fMRI pre-processing </b></p>\n",
    "\n",
    "<p style='text-align:center; font-size:18px; margin-bottom: 32px;'><b> November 5, 2018</b></p>\n",
    "\n",
    "<hr style='height:5px;border:none' />"
   ]
  },
  {
   "cell_type": "markdown",
   "metadata": {},
   "source": [
    "# Overview of pre-processing steps\n",
    "<hr style=\"height:1px;border:none\" />\n",
    "\n",
    "We have seen in the previous classes how to normalize structural MRI data to the template space. Starting today, we will learn how to pre-process an fMRI data set so that it will be ready to be analyzed. There are several steps in fMRI pre-processing, and different software tools implement different steps at different stages of preprocessing. Here, my goal is to show some essential steps in pre-processing; whey these steps are needed, and how they can be implemented.\n",
    "\n",
    "Here are steps of fMRI pre-processing. The order may vary in different software packages, but the idea behind these steps is the same.\n",
    "\n",
    "  1. **Slice timing correction**: Corrects for the time differences slice acquisition\n",
    "  2. **Motion correction / realignment**: Corrects for any spatial displacement during fMRI acquisition\n",
    "  3. **Artifact detection**: Corrects for any physiological artifacts during acquisition\n",
    "  4. **Co-registration**: Re-orients the image in the same space as the T1-weighted image\n",
    "  5. **Normalization**: Applies the warping from T1-image normalization to transform fMRI data into the template space\n",
    "  6. **Temporal filtering**: Eliminates low-frequency drift in BOLD fMRI time series\n",
    "  7. **Spatial smoothing**: Smooth fMRI data with a Gaussian kernel"
   ]
  },
  {
   "cell_type": "markdown",
   "metadata": {},
   "source": [
    "# Slice timing correction\n",
    "<hr style=\"height:1px;border:none\" />\n",
    "\n",
    "## What is slice timing correction?\n",
    "\n",
    "A typical 3D fMRI image is acquired as a series of 2D images, acquired in a certain order.\n",
    "\n",
    "<img style='width: 400px; padding: 0px;' src='https://github.com/sathayas/JupyterfMRIFall2018/blob/master/Images/Preproc_SliceSeq.png?raw=true' alt='Sequential acquisition'/>\n",
    "\n",
    "<p style='text-align:center; font-size:14px; margin-bottom: 32px; margin-top: 0px'> <i>Sequential (from top to bottom) </i> </p>\n",
    "\n",
    "\n",
    "<img style='width: 400px; padding: 0px;' src='https://github.com/sathayas/JupyterfMRIFall2018/blob/master/Images/Preproc_SliceInter.png?raw=true' alt='Interleaved acquisition'/>\n",
    "\n",
    "<p style='text-align:center; font-size:14px; margin-bottom: 32px; margin-top: 0px'> <i>Interleaved (odd slices, then even slices)</i> </p>\n",
    "\n",
    "That means there is a delay between the slices acquired first and last, for example. That means these slices are capturing fMRI signal at the different time points. Slice timing correction corrects such differences by signal interpolation and phase shift.\n",
    "\n",
    "\n",
    "## Slice timing correction or temporal derivatives?\n",
    "\n",
    "If TR (repetition time - time required to acquire a single volume) is sufficiently short (<2 Sec), then you can correct slice timing differences by including temporal derivatives in your first-level regression model (to be covered later). \n",
    "\n",
    "## Slice timing correction with Nipype\n",
    "\n",
    "Both SPM and FSL have slice timing correction. Here are code snippet examples implementing a slice timing correction for interleaved acquisition. ***They are not complete programs, but code snippets defining a node***.\n",
    "\n",
    "### FSL"
   ]
  },
  {
   "cell_type": "markdown",
   "metadata": {},
   "source": [
    "`<SliceTime_fsl.py>`"
   ]
  },
  {
   "cell_type": "code",
   "execution_count": null,
   "metadata": {},
   "outputs": [],
   "source": [
    "from nipype.interfaces import fsl\n",
    "\n",
    "sliceTime = Node(fsl.slicetimer(interleaved = True,  # interleaved\n",
    "                                time_repetition = 2.5,  # TR in Sec\n",
    "                                ),\n",
    "                 name='sliceTime')\n",
    "\n",
    "# To connect with other nodes, here are input and output parameters:\n",
    "#\n",
    "# input:   in_file\n",
    "# output:  slice_time_corrected_file\n",
    "#"
   ]
  },
  {
   "cell_type": "markdown",
   "metadata": {},
   "source": [
    "It is possible to specify slice order or timing for custom cases (e.g., multi-band acquisition). For more details, please consult **`fsl.slicetimer.help()`**."
   ]
  },
  {
   "cell_type": "markdown",
   "metadata": {},
   "source": [
    "### SPM"
   ]
  },
  {
   "cell_type": "markdown",
   "metadata": {},
   "source": [
    "`<SliceTime_spm.py>`"
   ]
  },
  {
   "cell_type": "code",
   "execution_count": null,
   "metadata": {},
   "outputs": [],
   "source": [
    "from nipype.interfaces import spm\n",
    "\n",
    "sliceTime = Node(spm.SliceTiming(num_slices = 32,  # number of slices\n",
    "                                 time_repetition = 2.5,   # TR in sec\n",
    "                                 time_acquisition = 2.5 - 2.5/32,  # acqu time\n",
    "                                 slice_order = list(range(31,0,-2))+list(range(32,0,-2)),\n",
    "                                                   # slice timing, interleaved\n",
    "                                 ref_slice = 1     # reference slice\n",
    "                                 )\n",
    "\n",
    "# To connect with other nodes, here are input and output parameters:\n",
    "#\n",
    "# input:   in_files\n",
    "# output:  timecorrected_files\n",
    "#"
   ]
  },
  {
   "cell_type": "markdown",
   "metadata": {},
   "source": [
    "# Motion correction\n",
    "<hr style=\"height:1px;border:none\" />\n",
    "\n",
    "\n",
    "## What is motion correction?\n",
    "\n",
    "Even if you instruct a subject not to move during an fMRI experiment, chances are, he / she is unable to hold absolutely still. In other words, he or she does move the head. So why does it matter if the subject moves the head? That is because signals may not align across time points, and consequently may not be detected.\n",
    "\n",
    "<img style='width: 500px; padding: 0px;' src='https://github.com/sathayas/JupyterfMRIFall2018/blob/master/Images/Preproc_Motion.png?raw=true' alt='Motion and its impact'/>\n",
    "\n",
    "To correct this problem, motion correction is performed so that all the time points are spatially aligned. This is typically done by spatially re-orienting each time frame to the reference image. The reference image can be one of the time points (the first time point for SPM, or the middle time point for FSL), or the mean image of all fMRI time points. \n",
    "\n",
    "## How is motion correction performed?\n",
    "Each time point is spatially re-oriented to match the reference image, by rotating or shifting in x, y, and z-directions. This requires only 6 parameters, as opposed to 12 parameters needed for the affine transformation for spatial normalization. This 6-parameter transformation is called **rigid-body transformation**. This makes sense since a person's brain shape does not change over time (at least for the duration of an fMRI experiment anyway), thus scaling and shearing are not needed here. \n",
    "\n",
    "<img style='width: 300px; padding: 0px;' src='https://github.com/sathayas/JupyterfMRIFall2018/blob/master/Images/Preproc_RigidBody.png?raw=true' alt='Rigid body transformation'/>\n",
    "\n",
    "## Limit of motion correction\n",
    "If motion is unusually large, motion correction alone cannot correct all the issues arising from misaligned images. Unfortunately motion is particularly problematic for subject populations whom holding still is challenging (e.g., children, elderly, patients with certain conditions such as Parkinson's disease, ADHD). In such a case, the second line of correction is to include the extent of motion in the statistical analysis (to be covered later). In extreme cases, some time points may be discarded. \n",
    "\n",
    "## Motion correction in Nipype\n",
    "\n",
    "Both FSL and SPM have motion correction capability. Since motion correction is often a required step in fMRI pre-processing, I demonstrate motion correction workflows for both FSL and SPM.\n",
    "\n",
    "### FSL (McFLIRT)\n",
    "\n",
    "`<MoCor_fsl.py>`"
   ]
  },
  {
   "cell_type": "code",
   "execution_count": 1,
   "metadata": {},
   "outputs": [
    {
     "name": "stderr",
     "output_type": "stream",
     "text": [
      "Failed to import duecredit due to No module named 'duecredit'\n",
      "/Library/Frameworks/Python.framework/Versions/3.6/lib/python3.6/site-packages/bids/grabbids/__init__.py:6: FutureWarning: grabbids has been renamed to layout in version 0.6.5, and will be removed in version 0.8\n",
      "  warnings.warn(\"grabbids has been renamed to layout in version 0.6.5, and will be removed in version 0.8\", FutureWarning)\n"
     ]
    }
   ],
   "source": [
    "import os\n",
    "import matplotlib.pyplot as plt\n",
    "import matplotlib.image as mpimg\n",
    "import nipype.interfaces.fsl as fsl # importing FSL interface functions\n",
    "from nipype import Node, Workflow  # components to construct workflow\n",
    "from nipype.interfaces.io import DataSink  # datasink\n",
    "from bids.grabbids import BIDSLayout  # BIDSLayout object to specify file(s)\n",
    "\n",
    "# Directory where your data set resides. This needs to be customized\n",
    "#dataDir = '/home/satoru/Teaching/fMRI_Fall_2018/Data/ds102'\n",
    "dataDir = '/Users/sh45474/Documents/Teaching/fMRI_Fall_2018/Data/ds102'\n",
    "\n",
    "# Creating the layout object for this BIDS data set\n",
    "layout = BIDSLayout(dataDir)"
   ]
  },
  {
   "cell_type": "markdown",
   "metadata": {},
   "source": [
    "Here, I am using `ds102` data, subject 26, run 1. The task is the flanker task."
   ]
  },
  {
   "cell_type": "code",
   "execution_count": 3,
   "metadata": {},
   "outputs": [],
   "source": [
    "# an fMRI image from one of the subjects (run 1 only)\n",
    "imagefMRI = layout.get(subject='26',\n",
    "                       run='1',\n",
    "                       type='bold',\n",
    "                       extensions='nii.gz',\n",
    "                       return_type='file')[0]\n",
    "\n",
    "# Output directory\n",
    "outDir = os.path.join(dataDir, 'WorkflowOutput')"
   ]
  },
  {
   "cell_type": "markdown",
   "metadata": {},
   "source": [
    "Now, the first node in the workflow is to delete first 4 time points from the fMRI data. This type of dummy scan removal is done to ensure that magnetic spins reach the equilibrium for stable BOLD fMRI signal. Although this step may not be necessary with newer MRI scanners, I just want to demonstrate how to do this using FSL's **`ExtractROI`**. "
   ]
  },
  {
   "cell_type": "code",
   "execution_count": 4,
   "metadata": {},
   "outputs": [],
   "source": [
    "# skip dummy scans\n",
    "extract = Node(fsl.ExtractROI(in_file=imagefMRI,  # input image\n",
    "                              t_min=4,            # first 4 volumes are deleted\n",
    "                              t_size=-1),\n",
    "               name=\"extract\")"
   ]
  },
  {
   "cell_type": "markdown",
   "metadata": {},
   "source": [
    "The actual motion correction is performed by **`MCFLIRT`**. Here, I specify that optional displacement parameters are generated."
   ]
  },
  {
   "cell_type": "code",
   "execution_count": 5,
   "metadata": {},
   "outputs": [],
   "source": [
    "# creating motion correction node\n",
    "mcflirt = Node(fsl.MCFLIRT(save_rms=True),   # saving displacement parameters\n",
    "               name=\"mcflirt\")\n"
   ]
  },
  {
   "cell_type": "markdown",
   "metadata": {},
   "source": [
    "Then I create a data sink node, workflow, and connecting the nodes in the workflow."
   ]
  },
  {
   "cell_type": "code",
   "execution_count": 6,
   "metadata": {},
   "outputs": [],
   "source": [
    "# creating datasink to collect outputs\n",
    "datasink = Node(DataSink(base_directory=outDir), \n",
    "                name='datasink')\n",
    "\n",
    "# creating a workflow\n",
    "moCor = Workflow(name=\"MoCorFSL\", base_dir=outDir)\n",
    "\n",
    "# connecting the nodes\n",
    "moCor.connect(extract,'roi_file', mcflirt, 'in_file')\n",
    "moCor.connect(mcflirt,'out_file', datasink, 'McFSL_Output.@mcfMRI')  # corrected fMRI\n",
    "moCor.connect(mcflirt,'par_file', datasink, 'McFSL_Output.@mcPar')   # motion parameter\n",
    "moCor.connect(mcflirt,'rms_files', datasink, 'McFSL_Output.@mcRMS')   # relative motion\n"
   ]
  },
  {
   "cell_type": "markdown",
   "metadata": {},
   "source": [
    "Just for fun, I am visualizing the workflow."
   ]
  },
  {
   "cell_type": "code",
   "execution_count": 7,
   "metadata": {},
   "outputs": [],
   "source": [
    "%matplotlib inline"
   ]
  },
  {
   "cell_type": "code",
   "execution_count": 8,
   "metadata": {},
   "outputs": [
    {
     "name": "stdout",
     "output_type": "stream",
     "text": [
      "181105-14:32:47,986 nipype.workflow INFO:\n",
      "\t Generated workflow graph: /Users/sh45474/Documents/Teaching/fMRI_Fall_2018/Data/ds102/WorkflowOutput/MoCorFSL/graph_orig.png (graph2use=orig, simple_form=True).\n"
     ]
    },
    {
     "data": {
      "image/png": "[encoded data removed]",
      "text/plain": [
       "<Figure size 720x720 with 1 Axes>"
      ]
     },
     "metadata": {},
     "output_type": "display_data"
    }
   ],
   "source": [
    "# writing out graph\n",
    "moCor.write_graph(graph2use='orig', dotfilename='graph_orig.dot')\n",
    "\n",
    "# showing the graph\n",
    "plt.figure(figsize=[10,10])\n",
    "img=mpimg.imread(os.path.join(outDir,\"MoCorFSL\",\"graph_orig_detailed.png\"))\n",
    "imgplot = plt.imshow(img)\n",
    "plt.axis('off')\n",
    "plt.show()"
   ]
  },
  {
   "cell_type": "markdown",
   "metadata": {},
   "source": [
    "And running the workflow."
   ]
  },
  {
   "cell_type": "code",
   "execution_count": 9,
   "metadata": {},
   "outputs": [
    {
     "name": "stdout",
     "output_type": "stream",
     "text": [
      "181105-14:33:11,198 nipype.workflow INFO:\n",
      "\t Workflow MoCorFSL settings: ['check', 'execution', 'logging', 'monitoring']\n",
      "181105-14:33:11,206 nipype.workflow INFO:\n",
      "\t Running serially.\n",
      "181105-14:33:11,207 nipype.workflow INFO:\n",
      "\t [Node] Setting-up \"MoCorFSL.extract\" in \"/Users/sh45474/Documents/Teaching/fMRI_Fall_2018/Data/ds102/WorkflowOutput/MoCorFSL/extract\".\n",
      "181105-14:33:11,211 nipype.workflow INFO:\n",
      "\t [Node] Cached \"MoCorFSL.extract\" - collecting precomputed outputs\n",
      "181105-14:33:11,212 nipype.workflow INFO:\n",
      "\t [Node] \"MoCorFSL.extract\" found cached.\n",
      "181105-14:33:11,213 nipype.workflow INFO:\n",
      "\t [Node] Setting-up \"MoCorFSL.mcflirt\" in \"/Users/sh45474/Documents/Teaching/fMRI_Fall_2018/Data/ds102/WorkflowOutput/MoCorFSL/mcflirt\".\n",
      "181105-14:33:11,217 nipype.workflow INFO:\n",
      "\t [Node] Cached \"MoCorFSL.mcflirt\" - collecting precomputed outputs\n",
      "181105-14:33:11,218 nipype.workflow INFO:\n",
      "\t [Node] \"MoCorFSL.mcflirt\" found cached.\n",
      "181105-14:33:11,219 nipype.workflow INFO:\n",
      "\t [Node] Setting-up \"MoCorFSL.datasink\" in \"/Users/sh45474/Documents/Teaching/fMRI_Fall_2018/Data/ds102/WorkflowOutput/MoCorFSL/datasink\".\n",
      "181105-14:33:11,228 nipype.workflow INFO:\n",
      "\t [Node] Running \"datasink\" (\"nipype.interfaces.io.DataSink\")\n",
      "181105-14:33:11,498 nipype.workflow INFO:\n",
      "\t [Node] Finished \"MoCorFSL.datasink\".\n"
     ]
    },
    {
     "data": {
      "text/plain": [
       "<networkx.classes.digraph.DiGraph at 0x10f686e10>"
      ]
     },
     "execution_count": 9,
     "metadata": {},
     "output_type": "execute_result"
    }
   ],
   "source": [
    "# running the workflow\n",
    "moCor.run()"
   ]
  },
  {
   "cell_type": "markdown",
   "metadata": {},
   "source": [
    "**Examining the output**\n",
    "\n",
    "  * Movies of before and after motion correction"
   ]
  },
  {
   "cell_type": "markdown",
   "metadata": {},
   "source": [
    "### SPM\n",
    "In SPM, motion correction is referred as **realignment**."
   ]
  },
  {
   "cell_type": "markdown",
   "metadata": {},
   "source": [
    "`<MoCor_spm.py>`"
   ]
  },
  {
   "cell_type": "code",
   "execution_count": 10,
   "metadata": {},
   "outputs": [],
   "source": [
    "import os\n",
    "import matplotlib.pyplot as plt\n",
    "import matplotlib.image as mpimg\n",
    "import nipype.interfaces.spm as spm # importing SPM interface functions\n",
    "from nipype import Node, Workflow  # components to construct workflow\n",
    "from nipype.interfaces.io import DataSink  # datasink\n",
    "from nipype.algorithms.misc import Gunzip  # gunzip interface\n",
    "from bids.grabbids import BIDSLayout  # BIDSLayout object to specify file(s)\n",
    "\n",
    "# Directory where your data set resides. This needs to be customized\n",
    "#dataDir = '/home/satoru/Teaching/fMRI_Fall_2018/Data/ds102'\n",
    "dataDir = '/Users/sh45474/Documents/Teaching/fMRI_Fall_2018/Data/ds102'\n",
    "\n",
    "# Creating the layout object for this BIDS data set\n",
    "layout = BIDSLayout(dataDir)\n",
    "\n",
    "# an fMRI image from one of the subjects (run 1 only)\n",
    "imagefMRI = layout.get(subject='26',\n",
    "                       run='1',\n",
    "                       type='bold',\n",
    "                       extensions='nii.gz',\n",
    "                       return_type='file')[0]\n",
    "\n",
    "# Output directory\n",
    "outDir = os.path.join(dataDir, 'WorkflowOutput')"
   ]
  },
  {
   "cell_type": "markdown",
   "metadata": {},
   "source": [
    "Since SPM does not like `nii.gz`, the first node is for `gunzip`. There is no simple way to remove dummy scans in SPM, so I do not do that here."
   ]
  },
  {
   "cell_type": "code",
   "execution_count": 11,
   "metadata": {},
   "outputs": [],
   "source": [
    "# gunzip node\n",
    "gunzip = Node(Gunzip(in_file=imagefMRI),\n",
    "              name=\"gunzip\")"
   ]
  },
  {
   "cell_type": "markdown",
   "metadata": {},
   "source": [
    "And the node for the realignment (or motion correction):"
   ]
  },
  {
   "cell_type": "code",
   "execution_count": 12,
   "metadata": {},
   "outputs": [],
   "source": [
    "# motion correction aka realignment\n",
    "realign = Node(spm.Realign(),\n",
    "               name=\"realign\")"
   ]
  },
  {
   "cell_type": "markdown",
   "metadata": {},
   "source": [
    "The data sink, workflow, and connecting nodes."
   ]
  },
  {
   "cell_type": "code",
   "execution_count": 13,
   "metadata": {},
   "outputs": [],
   "source": [
    "# DataSink to collect outputs\n",
    "datasink = Node(DataSink(base_directory=outDir), \n",
    "                name='datasink')\n",
    "\n",
    "# creating a workflow\n",
    "moCor = Workflow(name=\"MoCorSPM\", base_dir=outDir)\n",
    "\n",
    "# connecting the nodes\n",
    "moCor.connect(gunzip,'out_file', realign, 'in_files')\n",
    "moCor.connect(realign,'realigned_files', datasink, 'McSPM_Output.@mcfMRI')  # corrected fMRI\n",
    "moCor.connect(realign,'realignment_parameters', datasink, 'McSPM_Output.@mcPar')   # motion parameter"
   ]
  },
  {
   "cell_type": "markdown",
   "metadata": {},
   "source": [
    "As in FSL motion correction, I generate a graph of the workflow."
   ]
  },
  {
   "cell_type": "code",
   "execution_count": 14,
   "metadata": {},
   "outputs": [],
   "source": [
    "%matplotlib inline"
   ]
  },
  {
   "cell_type": "code",
   "execution_count": 15,
   "metadata": {},
   "outputs": [
    {
     "name": "stdout",
     "output_type": "stream",
     "text": [
      "181105-14:44:19,408 nipype.workflow INFO:\n",
      "\t Generated workflow graph: /Users/sh45474/Documents/Teaching/fMRI_Fall_2018/Data/ds102/WorkflowOutput/MoCorSPM/graph_orig.png (graph2use=orig, simple_form=True).\n"
     ]
    },
    {
     "data": {
      "image/png": "[encoded data removed]",
      "text/plain": [
       "<Figure size 720x288 with 1 Axes>"
      ]
     },
     "metadata": {},
     "output_type": "display_data"
    }
   ],
   "source": [
    "# writing out graphs\n",
    "moCor.write_graph(graph2use='orig', dotfilename='graph_orig.dot')\n",
    "\n",
    "# showing the graph\n",
    "plt.figure(figsize=[10,4])\n",
    "img=mpimg.imread(os.path.join(outDir,\"MoCorSPM\",\"graph_orig_detailed.png\"))\n",
    "imgplot = plt.imshow(img)\n",
    "plt.axis('off')\n",
    "plt.show()"
   ]
  },
  {
   "cell_type": "markdown",
   "metadata": {},
   "source": [
    "Finally running the workflow."
   ]
  },
  {
   "cell_type": "code",
   "execution_count": 16,
   "metadata": {},
   "outputs": [
    {
     "name": "stdout",
     "output_type": "stream",
     "text": [
      "181105-14:44:36,759 nipype.workflow INFO:\n",
      "\t Workflow MoCorSPM settings: ['check', 'execution', 'logging', 'monitoring']\n",
      "181105-14:44:36,767 nipype.workflow INFO:\n",
      "\t Running serially.\n",
      "181105-14:44:36,768 nipype.workflow INFO:\n",
      "\t [Node] Setting-up \"MoCorSPM.gunzip\" in \"/Users/sh45474/Documents/Teaching/fMRI_Fall_2018/Data/ds102/WorkflowOutput/MoCorSPM/gunzip\".\n",
      "181105-14:44:36,772 nipype.workflow INFO:\n",
      "\t [Node] Cached \"MoCorSPM.gunzip\" - collecting precomputed outputs\n",
      "181105-14:44:36,773 nipype.workflow INFO:\n",
      "\t [Node] \"MoCorSPM.gunzip\" found cached.\n",
      "181105-14:44:36,773 nipype.workflow INFO:\n",
      "\t [Node] Setting-up \"MoCorSPM.realign\" in \"/Users/sh45474/Documents/Teaching/fMRI_Fall_2018/Data/ds102/WorkflowOutput/MoCorSPM/realign\".\n",
      "181105-14:44:36,779 nipype.workflow INFO:\n",
      "\t [Node] Cached \"MoCorSPM.realign\" - collecting precomputed outputs\n",
      "181105-14:44:36,780 nipype.workflow INFO:\n",
      "\t [Node] \"MoCorSPM.realign\" found cached.\n",
      "181105-14:44:36,781 nipype.workflow INFO:\n",
      "\t [Node] Setting-up \"MoCorSPM.datasink\" in \"/Users/sh45474/Documents/Teaching/fMRI_Fall_2018/Data/ds102/WorkflowOutput/MoCorSPM/datasink\".\n",
      "181105-14:44:36,790 nipype.workflow INFO:\n",
      "\t [Node] Running \"datasink\" (\"nipype.interfaces.io.DataSink\")\n",
      "181105-14:44:36,796 nipype.workflow INFO:\n",
      "\t [Node] Finished \"MoCorSPM.datasink\".\n"
     ]
    },
    {
     "data": {
      "text/plain": [
       "<networkx.classes.digraph.DiGraph at 0x11002f828>"
      ]
     },
     "execution_count": 16,
     "metadata": {},
     "output_type": "execute_result"
    }
   ],
   "source": [
    "# running the workflow\n",
    "moCor.run()"
   ]
  },
  {
   "cell_type": "markdown",
   "metadata": {},
   "source": [
    "**Examining the output**\n",
    "\n",
    "  * Movies of before and after motion correction"
   ]
  },
  {
   "cell_type": "markdown",
   "metadata": {},
   "source": [
    "### Exercise\n",
    "1. **Plotting motion parameters**. In the motion parameter files generated in the data sink, the first 3 columns correspond to shifts in the x-, y-, and z-directions. The last 3 columns correspond to rotations around the x-, y-, and z-axes. Generate a plot for the shift parameters over time, in a single plot with 3 lines overlaid. Likewise, generate a plot for the rotation parameters over time, in a single plot with 3 lines overlaid. Post the code on Canvas.\n",
    "\n",
    "2. **Jumpy time points**.\n",
    "\n",
    "    **2a. (FSL users)** Plot the absolute and relative RMS displacement parameters over time. Are there any time points with a large movement? Post the code on Canvas.\n",
    "\n",
    "    **2b. (SPM users)** Calculate the RMS (root mean square) displacement parameter by squaring the six parameters at each time point, summing them, then taking a square root. Then calculate the relative displacement by taking a difference between each time point of the RMS parameter and the subsequent data point. This can be easily accomplished by **`np.diff`** function. Then plot the relative displacement parameter over time. Are there any time points with a large movement? Post the code on Canvas."
   ]
  },
  {
   "cell_type": "markdown",
   "metadata": {},
   "source": [
    "# Artifact detection\n",
    "<hr style=\"height:1px;border:none\" />\n",
    "\n",
    "In addition to motion, two other major sources of confounding factors that may influence the quality of fMRI data are the cardiac cycle (a.k.a., heartbeat) and respiration. Both sources produce periodic signals. Although the frequency of the cardiac signal is much higher than the fMRI sampling frequency, its higher harmonics may be detected by fMRI. Respiration is much slower than TR, so it may be detected by fMRI. \n",
    "\n",
    "If you are seriously concerned about these physiological noises, then you can record cardiac cycles and respiration during your fMRI experiment and correct those as part of the fMRI preprocessing steps. \n",
    "\n",
    "One popular tool for this is **RETROICOR** in the **AFNI** package. You can use this in Nipype as **`Retroicor`** in **`nipype.interfaces.afni`**. For those who are interested in this should consult AFNI documentation."
   ]
  },
  {
   "cell_type": "markdown",
   "metadata": {},
   "source": [
    "# Co-registration\n",
    "<hr style=\"height:1px;border:none\" />\n",
    "\n",
    "## What is co-registration?\n",
    "It is highly likely that your fMRI data initially are not in the same orientation as the accompanying T1-weighted image. The **co-registration** process re-orient your fMRI data in the same orientation as the T1-weighted image. Doing so facilitates normalization of fMRI data, as we see later. \n",
    "\n",
    "Co-registration of fMRI data to T1 image data is often done with rigid-body transformation, similar to motion correction. This is because we only need to correct the orientation of fMRI data, but not the shape of fMRI data.\n",
    "\n",
    "## Co-registration in Nipype\n",
    "\n",
    "### FSL (FLIRT)\n",
    "Co-registration in FSL can be accomplished by FLIRT in FSL. But we have to run FLIRT twice: the first FLIRT estimates co-registration parameters, and the second FLIRT applies normalization parameters to all time points. Here in the example code below, I am tacking on the co-registration to the motion-correction workflow I generated earlier, although the data set is different now (`ds114` instead of `ds102`). "
   ]
  },
  {
   "cell_type": "markdown",
   "metadata": {},
   "source": [
    "`<CoReg_fsl.py>`"
   ]
  },
  {
   "cell_type": "code",
   "execution_count": 1,
   "metadata": {},
   "outputs": [],
   "source": [
    "import os\n",
    "import matplotlib.pyplot as plt\n",
    "import matplotlib.image as mpimg\n",
    "import nipype.interfaces.fsl as fsl # importing FSL interface functions\n",
    "from nipype import Node, Workflow  # components to construct workflow\n",
    "from nipype.interfaces.io import DataSink  # datasink\n",
    "from bids.grabbids import BIDSLayout  # BIDSLayout object to specify file(s)\n",
    "\n",
    "# Directory where your data set resides. This needs to be customized\n",
    "dataDir = '/home/satoru/Teaching/fMRI_Fall_2018/Data/ds114'\n",
    "#dataDir = '/Users/sh45474/Documents/Teaching/fMRI_Fall_2018/Data/ds114'\n",
    "\n",
    "# Creating the layout object for this BIDS data set\n",
    "layout = BIDSLayout(dataDir)\n",
    "\n",
    "# an fMRI image from one of the subjects (finger foot lips, test)\n",
    "imagefMRI = layout.get(subject='09',\n",
    "                       session='test',\n",
    "                       type='bold',\n",
    "                       task='fingerfootlips',\n",
    "                       extensions='nii.gz',\n",
    "                       return_type='file')[0]\n",
    "\n",
    "# an T1 image for the same subject (test)\n",
    "imageT1 = layout.get(subject='09',\n",
    "                     session='test',\n",
    "                     type='T1w',\n",
    "                     extensions='nii.gz',\n",
    "                     return_type='file')[0]\n",
    "\n",
    "# Output directory\n",
    "outDir = os.path.join(dataDir, 'WorkflowOutput')"
   ]
  },
  {
   "cell_type": "markdown",
   "metadata": {},
   "source": [
    "Here, I will be using both T1 data and fMRI data (`fingerfootlips` task). Let's create nodes for skipping dummy scans and motion correction."
   ]
  },
  {
   "cell_type": "code",
   "execution_count": 2,
   "metadata": {},
   "outputs": [],
   "source": [
    "# skip dummy scans\n",
    "extract = Node(fsl.ExtractROI(in_file=imagefMRI,  # input image\n",
    "                              t_min=4,            # first 4 volumes are deleted\n",
    "                              t_size=-1),\n",
    "               name=\"extract\")\n",
    "\n",
    "# creating motion correction node\n",
    "mcflirt = Node(fsl.MCFLIRT(save_rms=True),   # saving displacement parameters\n",
    "               name=\"mcflirt\")\n"
   ]
  },
  {
   "cell_type": "markdown",
   "metadata": {},
   "source": [
    "Now, the first FLIRT node, referred as **`coreg`**. This FLIRT node estimates a rigid-body transformation necessary to match the functional image to the T1-weighted image in the native space."
   ]
  },
  {
   "cell_type": "code",
   "execution_count": 4,
   "metadata": {},
   "outputs": [],
   "source": [
    "# creating co-registration node (estimating the coregistration parameters)\n",
    "coreg = Node(fsl.FLIRT(reference=imageT1,  # target: T1-weighted\n",
    "                       dof=6,       # specifying rigid-body (6-parameters)\n",
    "                       cost='normmi'), # normizied mutual info\n",
    "             name=\"coreg\")"
   ]
  },
  {
   "cell_type": "markdown",
   "metadata": {},
   "source": [
    "One thing to note here is that I am using **`cost='normmi'`**, or the cost function is normalized mutual information. Since the structural image (T1-weighted) and the functional image (T2*-weighted) have different contrasts, it makes sense to use an information theory-based cost function.\n",
    "\n",
    "The second FLIRT node, referred as **`applywarp`**. This node applies the rigid-body transformation estimated from the previous FLIRT node and transform all the time points in the fMRI time series."
   ]
  },
  {
   "cell_type": "code",
   "execution_count": 5,
   "metadata": {},
   "outputs": [],
   "source": [
    "# applying the coregistration parameters to the entire time series\n",
    "applywarp = Node(fsl.FLIRT(),\n",
    "                 name=\"applywarp\")"
   ]
  },
  {
   "cell_type": "markdown",
   "metadata": {},
   "source": [
    "Let's create a data sink and a workflow object."
   ]
  },
  {
   "cell_type": "code",
   "execution_count": 6,
   "metadata": {},
   "outputs": [],
   "source": [
    "# creating datasink to collect outputs\n",
    "datasink = Node(DataSink(base_directory=outDir), \n",
    "                name='datasink')\n",
    "\n",
    "# creating a workflow\n",
    "coReg = Workflow(name=\"CoRegFSL\", base_dir=outDir)"
   ]
  },
  {
   "cell_type": "markdown",
   "metadata": {},
   "source": [
    "Now connecting nodes. "
   ]
  },
  {
   "cell_type": "code",
   "execution_count": 7,
   "metadata": {},
   "outputs": [],
   "source": [
    "# connecting the nodes\n",
    "coReg.connect(extract,'roi_file', mcflirt, 'in_file')\n",
    "# mcflirt fMRI as input for the first FLIRT\n",
    "coReg.connect([(mcflirt, coreg, [('out_file', 'in_file')])])  \n",
    "# mcflirt fMRI as both input and reference in the second FLIRT\n",
    "coReg.connect([(mcflirt, applywarp, [('out_file', 'in_file')])]) \n",
    "coReg.connect([(mcflirt, applywarp, [('out_file', 'reference')])]) \n",
    "# and passing on the rigid-body transformation parameters from first FLIRT\n",
    "coReg.connect([(coreg, applywarp, [('out_matrix_file', 'in_matrix_file')])])\n",
    "# second FLIRT node to data sink\n",
    "coReg.connect([(applywarp, datasink, [('out_file', 'FSLCoReg')])])"
   ]
  },
  {
   "cell_type": "markdown",
   "metadata": {},
   "source": [
    "One thing that is counterintuitive here is that McFLIRTed fMRI data are used both as the input and the reference in the second FLIRT node `applywarp`. This is because the reference image in this FLIRT is used solely to define the output image dimension and voxel size.\n",
    "\n",
    "For fun, let's see the workflow diagram."
   ]
  },
  {
   "cell_type": "code",
   "execution_count": 8,
   "metadata": {},
   "outputs": [
    {
     "name": "stdout",
     "output_type": "stream",
     "text": [
      "181108-11:53:46,820 nipype.workflow INFO:\n",
      "\t Generated workflow graph: /home/satoru/Teaching/fMRI_Fall_2018/Data/ds114/WorkflowOutput/CoRegFSL/graph_orig.png (graph2use=orig, simple_form=True).\n"
     ]
    },
    {
     "data": {
      "image/png": "[encoded data removed]",
      "text/plain": [
       "<Figure size 720x720 with 1 Axes>"
      ]
     },
     "metadata": {},
     "output_type": "display_data"
    }
   ],
   "source": [
    "# writing out graph\n",
    "coReg.write_graph(graph2use='orig', dotfilename='graph_orig.dot')\n",
    "\n",
    "# showing the graph\n",
    "plt.figure(figsize=[10,10])\n",
    "img=mpimg.imread(os.path.join(outDir,\"CoRegFSL\",\"graph_orig_detailed.png\"))\n",
    "imgplot = plt.imshow(img)\n",
    "plt.axis('off')\n",
    "plt.show()"
   ]
  },
  {
   "cell_type": "markdown",
   "metadata": {},
   "source": [
    "Now let's run the workflow!"
   ]
  },
  {
   "cell_type": "code",
   "execution_count": 9,
   "metadata": {},
   "outputs": [
    {
     "name": "stdout",
     "output_type": "stream",
     "text": [
      "181108-11:54:34,786 nipype.workflow INFO:\n",
      "\t Workflow CoRegFSL settings: ['check', 'execution', 'logging', 'monitoring']\n",
      "181108-11:54:34,799 nipype.workflow INFO:\n",
      "\t Running serially.\n",
      "181108-11:54:34,801 nipype.workflow INFO:\n",
      "\t [Node] Setting-up \"CoRegFSL.extract\" in \"/home/satoru/Teaching/fMRI_Fall_2018/Data/ds114/WorkflowOutput/CoRegFSL/extract\".\n",
      "181108-11:54:34,805 nipype.workflow INFO:\n",
      "\t [Node] Cached \"CoRegFSL.extract\" - collecting precomputed outputs\n",
      "181108-11:54:34,807 nipype.workflow INFO:\n",
      "\t [Node] \"CoRegFSL.extract\" found cached.\n",
      "181108-11:54:34,809 nipype.workflow INFO:\n",
      "\t [Node] Setting-up \"CoRegFSL.mcflirt\" in \"/home/satoru/Teaching/fMRI_Fall_2018/Data/ds114/WorkflowOutput/CoRegFSL/mcflirt\".\n",
      "181108-11:54:34,814 nipype.workflow INFO:\n",
      "\t [Node] Cached \"CoRegFSL.mcflirt\" - collecting precomputed outputs\n",
      "181108-11:54:34,815 nipype.workflow INFO:\n",
      "\t [Node] \"CoRegFSL.mcflirt\" found cached.\n",
      "181108-11:54:34,816 nipype.workflow INFO:\n",
      "\t [Node] Setting-up \"CoRegFSL.coreg\" in \"/home/satoru/Teaching/fMRI_Fall_2018/Data/ds114/WorkflowOutput/CoRegFSL/coreg\".\n",
      "181108-11:54:34,821 nipype.workflow INFO:\n",
      "\t [Node] Cached \"CoRegFSL.coreg\" - collecting precomputed outputs\n",
      "181108-11:54:34,822 nipype.workflow INFO:\n",
      "\t [Node] \"CoRegFSL.coreg\" found cached.\n",
      "181108-11:54:34,823 nipype.workflow INFO:\n",
      "\t [Node] Setting-up \"CoRegFSL.applywarp\" in \"/home/satoru/Teaching/fMRI_Fall_2018/Data/ds114/WorkflowOutput/CoRegFSL/applywarp\".\n",
      "181108-11:54:34,828 nipype.workflow INFO:\n",
      "\t [Node] Outdated cache found for \"CoRegFSL.applywarp\".\n",
      "181108-11:54:34,836 nipype.workflow INFO:\n",
      "\t [Node] Running \"applywarp\" (\"nipype.interfaces.fsl.preprocess.FLIRT\"), a CommandLine Interface with command:\n",
      "flirt -in /home/satoru/Teaching/fMRI_Fall_2018/Data/ds114/WorkflowOutput/CoRegFSL/mcflirt/sub-09_ses-test_task-fingerfootlips_bold_roi_mcf.nii.gz -ref /home/satoru/Teaching/fMRI_Fall_2018/Data/ds114/WorkflowOutput/CoRegFSL/mcflirt/sub-09_ses-test_task-fingerfootlips_bold_roi_mcf.nii.gz -out sub-09_ses-test_task-fingerfootlips_bold_roi_mcf_flirt.nii.gz -omat sub-09_ses-test_task-fingerfootlips_bold_roi_mcf_flirt.mat -init /home/satoru/Teaching/fMRI_Fall_2018/Data/ds114/WorkflowOutput/CoRegFSL/coreg/sub-09_ses-test_task-fingerfootlips_bold_roi_mcf_flirt.mat\n",
      "181108-11:54:43,49 nipype.workflow INFO:\n",
      "\t [Node] Finished \"CoRegFSL.applywarp\".\n",
      "181108-11:54:43,50 nipype.workflow INFO:\n",
      "\t [Node] Setting-up \"CoRegFSL.datasink\" in \"/home/satoru/Teaching/fMRI_Fall_2018/Data/ds114/WorkflowOutput/CoRegFSL/datasink\".\n",
      "181108-11:54:43,54 nipype.workflow INFO:\n",
      "\t [Node] Outdated cache found for \"CoRegFSL.datasink\".\n",
      "181108-11:54:43,61 nipype.workflow INFO:\n",
      "\t [Node] Running \"datasink\" (\"nipype.interfaces.io.DataSink\")\n",
      "181108-11:54:44,605 nipype.workflow INFO:\n",
      "\t [Node] Finished \"CoRegFSL.datasink\".\n"
     ]
    },
    {
     "data": {
      "text/plain": [
       "<networkx.classes.digraph.DiGraph at 0x7f20639265c0>"
      ]
     },
     "execution_count": 9,
     "metadata": {},
     "output_type": "execute_result"
    }
   ],
   "source": [
    "# running the workflow\n",
    "coReg.run()"
   ]
  },
  {
   "cell_type": "markdown",
   "metadata": {},
   "source": [
    "**Examining the output**\n",
    "\n",
    "  * MRIcron overlay: T1 (native) in the background, with co-registered fMRI overlaid"
   ]
  },
  {
   "cell_type": "markdown",
   "metadata": {},
   "source": [
    "### SPM (Coregister)\n",
    "Co-registration in SPM can be accomplished by **Coregister**. First, we have to gunzip the T1-weighted image as well as the fMRI data. Unlike FSL, SPM's co-registration process can do everything in one step. Here in the example code below, I am tacking on the co-registration to the motion-correction workflow I generated earlier, although the data set is different now (`ds114` instead of `ds102`). "
   ]
  },
  {
   "cell_type": "code",
   "execution_count": null,
   "metadata": {},
   "outputs": [],
   "source": []
  }
 ],
 "metadata": {
  "kernelspec": {
   "display_name": "Python 3",
   "language": "python",
   "name": "python3"
  },
  "language_info": {
   "codemirror_mode": {
    "name": "ipython",
    "version": 3
   },
   "file_extension": ".py",
   "mimetype": "text/x-python",
   "name": "python",
   "nbconvert_exporter": "python",
   "pygments_lexer": "ipython3",
   "version": "3.5.5"
  }
 },
 "nbformat": 4,
 "nbformat_minor": 2
}

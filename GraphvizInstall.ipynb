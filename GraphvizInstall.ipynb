{
 "cells": [
  {
   "cell_type": "markdown",
   "metadata": {},
   "source": [
    "<p style='text-align:center'>\n",
    "PSY 394U <b>Methods for fMRI</b>, Fall 2018\n",
    "\n",
    "\n",
    "<img style='width: 300px; padding: 0px;' src='https://github.com/sathayas/JupyterfMRIFall2018/blob/master/Images/Placebo_Left.png?raw=true' alt='brain blobs'/>\n",
    "\n",
    "</p>\n",
    "\n",
    "<p style='text-align:center; font-size:40px; margin-bottom: 30px;'><b> Installing Graphviz</b></p>\n",
    "\n",
    "\n",
    "<hr style='height:5px;border:none' />"
   ]
  },
  {
   "cell_type": "markdown",
   "metadata": {},
   "source": [
    "# What is Graphviz?\n",
    "\n",
    "Graphviz is a graph visualization software package. You may not use Graphviz directly, but a number of software packages (including Nipype) use it to draw diagrams and networks. Although you can still run Nipype without Graphviz, its diagram visualization capability is an asset when you generate a workflow."
   ]
  },
  {
   "cell_type": "markdown",
   "metadata": {},
   "source": [
    "# For Linux users\n",
    "\n",
    "Graphviz no longer provide pre-compiled packages for Linux. In other words, you cannot install with `apt-get` or `yum` as done for a typical Linux software tool. You need to download the source form [Graphviz's web site](https://graphviz.gitlab.io/_pages/Download/Download_source.html) and compile it. I recommend downloading the Graphviz stable source file (in the form of `graphviz-?.??.?.tar.gz`, where `?.??.?` refers to the current stable version). Once you download the source file, then you can run the following:\n",
    "\n",
    "```\n",
    "gunzip graphviz-?.??.?.tar.gz\n",
    "tar -xvf graphviz-?.??.?.tar\n",
    "cd graphviz-?.??.?\n",
    "./configure\n",
    "make\n",
    "make install\n",
    "```\n",
    "\n",
    "You can verify the installation by the command `which dot`. It should return the directory where Graphviz is installed.\n",
    "\n"
   ]
  },
  {
   "cell_type": "markdown",
   "metadata": {},
   "source": [
    "# For Mac users\n",
    "\n",
    "Unless you are a geek like me, before you can install Graphviz, first you have to install *Homebrew*. From the terminal app, run the following at the command prompt:\n",
    "```\n",
    "/usr/bin/ruby -e \"$(curl -fsSL https://raw.githubusercontent.com/Homebrew/install/master/install)\"\n",
    "```\n",
    "\n",
    "   ***NB: this is a single line command!***\n",
    "\n",
    "This will likely ask you to enter your admin password at some point during the process. After you finish installing Homebrew, then you can install Graphviz by\n",
    "\n",
    "```\n",
    "brew install graphviz\n",
    "```\n",
    "\n",
    "You can verify the installation by the command `which dot`. It should return the directory where Graphviz is installed."
   ]
  }
 ],
 "metadata": {
  "kernelspec": {
   "display_name": "Python 3",
   "language": "python",
   "name": "python3"
  },
  "language_info": {
   "codemirror_mode": {
    "name": "ipython",
    "version": 3
   },
   "file_extension": ".py",
   "mimetype": "text/x-python",
   "name": "python",
   "nbconvert_exporter": "python",
   "pygments_lexer": "ipython3",
   "version": "3.6.5"
  }
 },
 "nbformat": 4,
 "nbformat_minor": 2
}
